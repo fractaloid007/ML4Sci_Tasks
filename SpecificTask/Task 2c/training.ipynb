{
 "cells": [
  {
   "cell_type": "code",
   "execution_count": 1,
   "id": "e853c77c-42b9-426c-93d3-8d5f0a54f610",
   "metadata": {},
   "outputs": [
    {
     "name": "stdout",
     "output_type": "stream",
     "text": [
      "This is models.py. It contains dataset and model definitions for the project.\n"
     ]
    }
   ],
   "source": [
    "%run models.py"
   ]
  },
  {
   "cell_type": "code",
   "execution_count": 22,
   "id": "6af51e83-cb84-4ebe-bb27-6f5523f2fb67",
   "metadata": {},
   "outputs": [],
   "source": [
    "# Imports\n",
    "import torch\n",
    "import torch.nn as nn\n",
    "import torch.optim as optim\n",
    "from torch.utils.data import DataLoader, random_split\n",
    "from torch.nn import DataParallel\n",
    "from tqdm import tqdm\n",
    "from sklearn.metrics import roc_auc_score\n",
    "import os\n",
    "from models import UnlabelledJetDataset, LabelledJetDataset, VAE, Classifier, vae_loss"
   ]
  },
  {
   "cell_type": "code",
   "execution_count": 23,
   "id": "3ff6dc45-4a8a-402a-8ac5-0dc8cc5a5b4b",
   "metadata": {},
   "outputs": [
    {
     "name": "stdout",
     "output_type": "stream",
     "text": [
      "Using device: cuda\n"
     ]
    }
   ],
   "source": [
    "# Device setup\n",
    "device = torch.device(\"cuda\" if torch.cuda.is_available() else \"cpu\")\n",
    "print(f\"Using device: {device}\")\n",
    "\n",
    "# Load datasets\n",
    "unlabelled_dataset = UnlabelledJetDataset('../Dataset_Specific_Unlabelled.h5')\n",
    "unlabelled_loader = DataLoader(unlabelled_dataset, batch_size=256, shuffle=True, num_workers=16)\n",
    "\n",
    "labelled_dataset = LabelledJetDataset('../Dataset_Specific_labelled.h5')\n",
    "train_size = int(0.8 * len(labelled_dataset))\n",
    "test_size = len(labelled_dataset) - train_size\n",
    "train_labelled, test_labelled = random_split(labelled_dataset, [train_size, test_size])\n",
    "labelled_train_loader = DataLoader(train_labelled, batch_size=64, shuffle=True, num_workers=4)\n",
    "labelled_test_loader = DataLoader(test_labelled, batch_size=64, shuffle=False, num_workers=4)"
   ]
  },
  {
   "cell_type": "code",
   "execution_count": 24,
   "id": "70a07785-6260-4956-8a09-ddd562a633fa",
   "metadata": {},
   "outputs": [],
   "source": [
    "# Ensure ./res/ directory exists\n",
    "os.makedirs('./res/best', exist_ok=True)"
   ]
  },
  {
   "cell_type": "code",
   "execution_count": 25,
   "id": "036013ee-e518-462f-9336-364019622965",
   "metadata": {},
   "outputs": [
    {
     "name": "stdout",
     "output_type": "stream",
     "text": [
      "Using 4 GPUs\n"
     ]
    }
   ],
   "source": [
    "# Initialize models\n",
    "vae = VAE(latent_dim=128)\n",
    "if torch.cuda.device_count() > 1:\n",
    "    print(f\"Using {torch.cuda.device_count()} GPUs\")\n",
    "    vae = DataParallel(vae)\n",
    "vae.to(device)\n",
    "\n",
    "vae_core = vae.module if isinstance(vae, DataParallel) else vae\n",
    "classifier = Classifier(vae_core).to(device)\n",
    "if torch.cuda.device_count() > 1:\n",
    "    classifier = DataParallel(classifier)"
   ]
  },
  {
   "cell_type": "code",
   "execution_count": 26,
   "id": "09870c0c-55a2-4fdb-b2f8-7f586dfcf91b",
   "metadata": {},
   "outputs": [
    {
     "name": "stderr",
     "output_type": "stream",
     "text": [
      "VAE Epoch 1: 100%|██████████| 235/235 [00:16<00:00, 14.32it/s]\n",
      "Classifier Training: 100%|██████████| 125/125 [00:03<00:00, 31.62it/s]\n"
     ]
    },
    {
     "name": "stdout",
     "output_type": "stream",
     "text": [
      "\n",
      "Epoch 1 Results:\n",
      "VAE Loss: 8060.7903 | Recon: 8060.7903 | KL: 24866.1203\n",
      "Classifier Loss: 0.6536 | AUC: 0.8244\n"
     ]
    },
    {
     "name": "stderr",
     "output_type": "stream",
     "text": [
      "VAE Epoch 2: 100%|██████████| 235/235 [00:16<00:00, 14.43it/s]\n",
      "Classifier Training: 100%|██████████| 125/125 [00:03<00:00, 33.12it/s]\n"
     ]
    },
    {
     "name": "stdout",
     "output_type": "stream",
     "text": [
      "\n",
      "Epoch 2 Results:\n",
      "VAE Loss: 144.3552 | Recon: 141.3272 | KL: 60.5601\n",
      "Classifier Loss: 0.5573 | AUC: 0.8711\n"
     ]
    },
    {
     "name": "stderr",
     "output_type": "stream",
     "text": [
      "VAE Epoch 3: 100%|██████████| 235/235 [00:16<00:00, 14.21it/s]\n",
      "Classifier Training: 100%|██████████| 125/125 [00:03<00:00, 32.67it/s]\n"
     ]
    },
    {
     "name": "stdout",
     "output_type": "stream",
     "text": [
      "\n",
      "Epoch 3 Results:\n",
      "VAE Loss: 125.3197 | Recon: 122.8775 | KL: 24.4221\n",
      "Classifier Loss: 0.4977 | AUC: 0.8785\n"
     ]
    },
    {
     "name": "stderr",
     "output_type": "stream",
     "text": [
      "VAE Epoch 4: 100%|██████████| 235/235 [00:16<00:00, 14.42it/s]\n",
      "Classifier Training: 100%|██████████| 125/125 [00:03<00:00, 33.78it/s]\n"
     ]
    },
    {
     "name": "stdout",
     "output_type": "stream",
     "text": [
      "\n",
      "Epoch 4 Results:\n",
      "VAE Loss: 124.3792 | Recon: 121.4913 | KL: 19.2521\n",
      "Classifier Loss: 0.4812 | AUC: 0.8728\n"
     ]
    },
    {
     "name": "stderr",
     "output_type": "stream",
     "text": [
      "VAE Epoch 5: 100%|██████████| 235/235 [00:17<00:00, 13.75it/s]\n",
      "Classifier Training: 100%|██████████| 125/125 [00:03<00:00, 31.80it/s]\n"
     ]
    },
    {
     "name": "stdout",
     "output_type": "stream",
     "text": [
      "\n",
      "Epoch 5 Results:\n",
      "VAE Loss: 124.3933 | Recon: 121.1333 | KL: 16.2996\n",
      "Classifier Loss: 0.4798 | AUC: 0.8680\n"
     ]
    },
    {
     "name": "stderr",
     "output_type": "stream",
     "text": [
      "VAE Epoch 6: 100%|██████████| 235/235 [00:16<00:00, 14.48it/s]\n",
      "Classifier Training: 100%|██████████| 125/125 [00:03<00:00, 33.54it/s]\n"
     ]
    },
    {
     "name": "stdout",
     "output_type": "stream",
     "text": [
      "\n",
      "Epoch 6 Results:\n",
      "VAE Loss: 124.7444 | Recon: 121.1875 | KL: 14.2277\n",
      "Classifier Loss: 0.4898 | AUC: 0.8686\n"
     ]
    },
    {
     "name": "stderr",
     "output_type": "stream",
     "text": [
      "VAE Epoch 7: 100%|██████████| 235/235 [00:16<00:00, 14.15it/s]\n",
      "Classifier Training: 100%|██████████| 125/125 [00:03<00:00, 33.27it/s]\n"
     ]
    },
    {
     "name": "stdout",
     "output_type": "stream",
     "text": [
      "\n",
      "Epoch 7 Results:\n",
      "VAE Loss: 125.1322 | Recon: 121.3195 | KL: 12.7089\n",
      "Classifier Loss: 0.5051 | AUC: 0.8388\n"
     ]
    },
    {
     "name": "stderr",
     "output_type": "stream",
     "text": [
      "VAE Epoch 8: 100%|██████████| 235/235 [00:16<00:00, 13.91it/s]\n",
      "Classifier Training: 100%|██████████| 125/125 [00:03<00:00, 33.86it/s]\n"
     ]
    },
    {
     "name": "stdout",
     "output_type": "stream",
     "text": [
      "\n",
      "Epoch 8 Results:\n",
      "VAE Loss: 125.5289 | Recon: 121.5027 | KL: 11.5032\n",
      "Classifier Loss: 0.5131 | AUC: 0.8268\n"
     ]
    },
    {
     "name": "stderr",
     "output_type": "stream",
     "text": [
      "VAE Epoch 9: 100%|██████████| 235/235 [00:16<00:00, 14.33it/s]\n",
      "Classifier Training: 100%|██████████| 125/125 [00:03<00:00, 33.99it/s]\n"
     ]
    },
    {
     "name": "stdout",
     "output_type": "stream",
     "text": [
      "\n",
      "Epoch 9 Results:\n",
      "VAE Loss: 125.6647 | Recon: 121.4670 | KL: 10.4943\n",
      "Classifier Loss: 0.5112 | AUC: 0.8263\n"
     ]
    },
    {
     "name": "stderr",
     "output_type": "stream",
     "text": [
      "VAE Epoch 10: 100%|██████████| 235/235 [00:16<00:00, 14.56it/s]\n",
      "Classifier Training: 100%|██████████| 125/125 [00:03<00:00, 34.06it/s]\n"
     ]
    },
    {
     "name": "stdout",
     "output_type": "stream",
     "text": [
      "\n",
      "Epoch 10 Results:\n",
      "VAE Loss: 126.0195 | Recon: 121.6249 | KL: 9.7659\n",
      "Classifier Loss: 0.5260 | AUC: 0.8096\n"
     ]
    },
    {
     "name": "stderr",
     "output_type": "stream",
     "text": [
      "VAE Epoch 11: 100%|██████████| 235/235 [00:16<00:00, 14.38it/s]\n",
      "Classifier Training: 100%|██████████| 125/125 [00:03<00:00, 34.02it/s]\n"
     ]
    },
    {
     "name": "stdout",
     "output_type": "stream",
     "text": [
      "\n",
      "Epoch 11 Results:\n",
      "VAE Loss: 126.3912 | Recon: 121.8292 | KL: 9.1240\n",
      "Classifier Loss: 0.5367 | AUC: 0.8000\n"
     ]
    },
    {
     "name": "stderr",
     "output_type": "stream",
     "text": [
      "VAE Epoch 12: 100%|██████████| 235/235 [00:16<00:00, 14.55it/s]\n",
      "Classifier Training: 100%|██████████| 125/125 [00:03<00:00, 33.16it/s]\n"
     ]
    },
    {
     "name": "stdout",
     "output_type": "stream",
     "text": [
      "\n",
      "Epoch 12 Results:\n",
      "VAE Loss: 126.7694 | Recon: 122.0714 | KL: 8.5418\n",
      "Classifier Loss: 0.5388 | AUC: 0.7946\n"
     ]
    },
    {
     "name": "stderr",
     "output_type": "stream",
     "text": [
      "VAE Epoch 13: 100%|██████████| 235/235 [00:16<00:00, 14.12it/s]\n",
      "Classifier Training: 100%|██████████| 125/125 [00:03<00:00, 33.63it/s]\n"
     ]
    },
    {
     "name": "stdout",
     "output_type": "stream",
     "text": [
      "\n",
      "Epoch 13 Results:\n",
      "VAE Loss: 127.0074 | Recon: 122.1796 | KL: 8.0463\n",
      "Classifier Loss: 0.5565 | AUC: 0.7829\n"
     ]
    },
    {
     "name": "stderr",
     "output_type": "stream",
     "text": [
      "VAE Epoch 14: 100%|██████████| 235/235 [00:16<00:00, 14.35it/s]\n",
      "Classifier Training: 100%|██████████| 125/125 [00:03<00:00, 33.29it/s]\n"
     ]
    },
    {
     "name": "stdout",
     "output_type": "stream",
     "text": [
      "\n",
      "Epoch 14 Results:\n",
      "VAE Loss: 127.3251 | Recon: 122.3537 | KL: 7.6483\n",
      "Classifier Loss: 0.5466 | AUC: 0.7792\n",
      "Early stopping at epoch 14\n",
      "\n",
      "Training completed!\n",
      "Best VAE Loss: 124.3792\n",
      "Best Classifier AUC: 0.8785\n"
     ]
    }
   ],
   "source": [
    "# Optimizers\n",
    "optimizer_vae = optim.Adam(vae.parameters(), lr=1e-3, weight_decay=1e-5)\n",
    "optimizer_cls = optim.Adam([\n",
    "    {'params': classifier.module.vae.parameters() if hasattr(classifier, 'module') else classifier.vae.parameters(), 'lr': 1e-4},\n",
    "    {'params': classifier.module.classifier_net.parameters() if hasattr(classifier, 'module') else classifier.classifier_net.parameters(), 'lr': 1e-3}\n",
    "])\n",
    "\n",
    "# Schedulers\n",
    "scheduler_vae = optim.lr_scheduler.ReduceLROnPlateau(optimizer_vae, 'min', patience=3, factor=0.5)\n",
    "scheduler_cls = optim.lr_scheduler.ReduceLROnPlateau(optimizer_cls, 'max', patience=2)\n",
    "\n",
    "# Training loop\n",
    "best_auc = 0\n",
    "best_loss = float('inf')\n",
    "patience_counter = 0\n",
    "patience = 10\n",
    "\n",
    "for epoch in range(30):\n",
    "    # VAE Training\n",
    "    vae.train()\n",
    "    total_vae_loss = 0\n",
    "    total_recon = 0\n",
    "    total_kl = 0\n",
    "    beta = min(1.0, epoch / 20)  # KL annealing\n",
    "\n",
    "    for batch in tqdm(unlabelled_loader, desc=f\"VAE Epoch {epoch+1}\"):\n",
    "        batch = batch.to(device)\n",
    "        optimizer_vae.zero_grad()\n",
    "        recon, mu, logvar = vae(batch)\n",
    "        loss = vae_loss(recon, batch, mu, logvar, beta)\n",
    "        loss.backward()\n",
    "        torch.nn.utils.clip_grad_norm_(vae.parameters(), max_norm=1.0)\n",
    "        optimizer_vae.step()\n",
    "        total_vae_loss += loss.item()\n",
    "        total_recon += nn.functional.mse_loss(recon, batch, reduction='sum').item()\n",
    "        total_kl += -0.5 * torch.sum(1 + logvar - mu.pow(2) - logvar.exp()).item()\n",
    "\n",
    "    avg_vae_loss = total_vae_loss / len(unlabelled_loader.dataset)\n",
    "    scheduler_vae.step(avg_vae_loss)\n",
    "\n",
    "    # Classifier Training\n",
    "    classifier.train()\n",
    "    total_cls_loss = 0\n",
    "    for inputs, labels in tqdm(labelled_train_loader, desc=\"Classifier Training\"):\n",
    "        inputs, labels = inputs.to(device), labels.to(device)\n",
    "        labels = labels.view(-1, 1).float()\n",
    "        optimizer_cls.zero_grad()\n",
    "        outputs = classifier(inputs)\n",
    "        loss = nn.functional.binary_cross_entropy_with_logits(outputs, labels)\n",
    "        loss.backward()\n",
    "        optimizer_cls.step()\n",
    "        total_cls_loss += loss.item()\n",
    "\n",
    "    # Classifier Evaluation\n",
    "    classifier.eval()\n",
    "    all_preds, all_labels = [], []\n",
    "    with torch.no_grad():\n",
    "        for inputs, labels in labelled_test_loader:\n",
    "            inputs, labels = inputs.to(device), labels.to(device)\n",
    "            outputs = classifier(inputs)\n",
    "            all_preds.extend(torch.sigmoid(outputs).cpu().numpy())\n",
    "            all_labels.extend(labels.cpu().numpy())\n",
    "\n",
    "    test_auc = roc_auc_score(all_labels, all_preds)\n",
    "    scheduler_cls.step(test_auc)\n",
    "\n",
    "    # Print metrics\n",
    "    print(f\"\\nEpoch {epoch+1} Results:\")\n",
    "    print(f\"VAE Loss: {avg_vae_loss:.4f} | Recon: {total_recon/len(unlabelled_loader.dataset):.4f} | KL: {total_kl/len(unlabelled_loader.dataset):.4f}\")\n",
    "    print(f\"Classifier Loss: {total_cls_loss/len(labelled_train_loader):.4f} | AUC: {test_auc:.4f}\")\n",
    "\n",
    "    # Save best models\n",
    "    if test_auc > best_auc:\n",
    "        best_auc = test_auc\n",
    "        torch.save(classifier.state_dict(), './res/best/best_classifier.pth')\n",
    "    if avg_vae_loss < best_loss:\n",
    "        best_loss = avg_vae_loss\n",
    "        patience_counter = 0\n",
    "        torch.save(vae.state_dict(), './res/best/best_vae.pth')\n",
    "    else:\n",
    "        patience_counter += 1\n",
    "\n",
    "    if patience_counter >= patience:\n",
    "        print(f\"Early stopping at epoch {epoch+1}\")\n",
    "        break\n",
    "\n",
    "    if (epoch+1) % 5 == 0:\n",
    "        torch.save(vae.state_dict(), f'./res/vae_epoch_{epoch+1}.pth')\n",
    "        torch.save(classifier.state_dict(), f'./res/classifier_epoch_{epoch+1}.pth')\n",
    "\n",
    "print(\"\\nTraining completed!\")\n",
    "print(f\"Best VAE Loss: {best_loss:.4f}\")\n",
    "print(f\"Best Classifier AUC: {best_auc:.4f}\")"
   ]
  }
 ],
 "metadata": {
  "kernelspec": {
   "display_name": "tensorflow-2.12.0",
   "language": "python",
   "name": "tensorflow-2.12.0"
  },
  "language_info": {
   "codemirror_mode": {
    "name": "ipython",
    "version": 3
   },
   "file_extension": ".py",
   "mimetype": "text/x-python",
   "name": "python",
   "nbconvert_exporter": "python",
   "pygments_lexer": "ipython3",
   "version": "3.9.19"
  }
 },
 "nbformat": 4,
 "nbformat_minor": 5
}
