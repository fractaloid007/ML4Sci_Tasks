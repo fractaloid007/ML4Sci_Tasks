{
 "cells": [
  {
   "cell_type": "code",
   "execution_count": 24,
   "id": "af02c9c7-6aab-44ec-8931-c0a2dbdb06cf",
   "metadata": {},
   "outputs": [],
   "source": [
    "# Cell 1: Imports\n",
    "import torch\n",
    "import torch.nn as nn\n",
    "import torch.optim as optim\n",
    "import torch.nn.functional as F\n",
    "import torchvision.transforms as transforms\n",
    "from torch.utils.data import Dataset, DataLoader, random_split\n",
    "import h5py\n",
    "import numpy as np\n",
    "from tqdm import tqdm\n",
    "import matplotlib.pyplot as plt\n",
    "import seaborn as sns\n",
    "from sklearn.metrics import confusion_matrix, mean_squared_error"
   ]
  },
  {
   "cell_type": "code",
   "execution_count": 25,
   "id": "52168f89-3665-4d44-bdd4-5fd80a0ba229",
   "metadata": {},
   "outputs": [],
   "source": [
    "import time"
   ]
  },
  {
   "cell_type": "code",
   "execution_count": 26,
   "id": "25f41d94-b3bf-4963-ae45-796739658a77",
   "metadata": {},
   "outputs": [
    {
     "name": "stdout",
     "output_type": "stream",
     "text": [
      "Using device: cuda\n"
     ]
    }
   ],
   "source": [
    "device = torch.device('cuda' if torch.cuda.is_available() else 'cpu')\n",
    "print(f\"Using device: {device}\")"
   ]
  },
  {
   "cell_type": "code",
   "execution_count": 27,
   "id": "1b68feff-a9d0-4c5d-bf2c-aaa2140a758b",
   "metadata": {},
   "outputs": [],
   "source": [
    "# Cell 2: Dataset Classes\n",
    "class UnlabelledDataset(Dataset):\n",
    "    def __init__(self, h5_path, transform=None):\n",
    "        self.h5_file = h5py.File(h5_path, 'r')\n",
    "        self.data = self.h5_file['jet']\n",
    "        self.transform = transform\n",
    "\n",
    "    def __len__(self):\n",
    "        return len(self.data)\n",
    "\n",
    "    def __getitem__(self, idx):\n",
    "        image = np.array(self.data[idx], dtype=np.float32).transpose(2, 0, 1)  # (8, 125, 125)\n",
    "        if self.transform:\n",
    "            return self.transform(image), self.transform(image)\n",
    "        return torch.from_numpy(image).float()\n",
    "\n",
    "class LabelledDataset(Dataset):\n",
    "    def __init__(self, h5_path, transform=None):\n",
    "        self.h5_file = h5py.File(h5_path, 'r')\n",
    "        self.images = self.h5_file['jet']\n",
    "        self.labels = self.h5_file['Y']\n",
    "        self.targets = self.h5_file['m']\n",
    "        self.transform = transform\n",
    "\n",
    "    def __len__(self):\n",
    "        return len(self.images)\n",
    "\n",
    "    def __getitem__(self, idx):\n",
    "        image = np.array(self.images[idx], dtype=np.float32).transpose(2, 0, 1)\n",
    "        label = int(self.labels[idx][0])\n",
    "        target = float(self.targets[idx][0])\n",
    "        if self.transform:\n",
    "            image = self.transform(image)\n",
    "        return image, label, target"
   ]
  },
  {
   "cell_type": "code",
   "execution_count": 28,
   "id": "0caca65d-2dd1-4af2-ab8a-4e9f01809d7f",
   "metadata": {},
   "outputs": [
    {
     "name": "stderr",
     "output_type": "stream",
     "text": [
      "100%|██████████| 938/938 [00:24<00:00, 38.60it/s]\n"
     ]
    }
   ],
   "source": [
    "# Cell 3: Data Preprocessing\n",
    "# Compute normalization stats\n",
    "unlabelled_dataset = UnlabelledDataset('../Dataset_Specific_Unlabelled.h5')\n",
    "loader = DataLoader(unlabelled_dataset, batch_size=64)\n",
    "mean = torch.zeros(8)\n",
    "std = torch.zeros(8)\n",
    "for images in tqdm(loader):\n",
    "    images = images if isinstance(images, torch.Tensor) else images[0]\n",
    "    images = images.view(images.size(0), 8, -1)\n",
    "    mean += images.mean(2).sum(0)\n",
    "    std += images.std(2).sum(0)\n",
    "mean /= len(unlabelled_dataset)\n",
    "std /= len(unlabelled_dataset)"
   ]
  },
  {
   "cell_type": "code",
   "execution_count": 29,
   "id": "79cb679c-b66c-45d2-adc4-510bf43cb4e9",
   "metadata": {},
   "outputs": [],
   "source": [
    "import torch\n",
    "import torch.nn.functional as F\n",
    "from torchvision import transforms\n",
    "\n",
    "class ToTensor:\n",
    "    \"\"\"Converting numpy array to tensor without normalization\"\"\"\n",
    "    def __call__(self, img):\n",
    "        return torch.as_tensor(img, dtype=torch.float32)\n",
    "\n",
    "class RandomResizedCropTensor:\n",
    "    \"\"\"Tensor version of RandomResizedCrop\"\"\"\n",
    "    def __init__(self, size, scale=(0.2, 1.0)):\n",
    "        self.size = size\n",
    "        self.scale = scale\n",
    "        \n",
    "    def __call__(self, img):\n",
    "        _, h, w = img.shape\n",
    "        new_h = int(h * torch.empty(1).uniform_(self.scale[0], self.scale[1]).item())\n",
    "        new_w = int(w * torch.empty(1).uniform_(self.scale[0], self.scale[1]).item())\n",
    "        i = torch.randint(0, h - new_h + 1, (1,)).item()\n",
    "        j = torch.randint(0, w - new_w + 1, (1,)).item()\n",
    "        img = img[:, i:i+new_h, j:j+new_w]\n",
    "        return F.interpolate(img.unsqueeze(0), size=(self.size, self.size), \n",
    "                          mode='bilinear', align_corners=False).squeeze(0)\n",
    "\n",
    "class ResizeTensor:\n",
    "    \"\"\"Custom resize for tensor inputs\"\"\"\n",
    "    def __init__(self, size):\n",
    "        self.size = size\n",
    "        \n",
    "    def __call__(self, img):\n",
    "        return F.interpolate(img.unsqueeze(0), \n",
    "                           size=(self.size, self.size), \n",
    "                           mode='bilinear',\n",
    "                           align_corners=False).squeeze(0)\n",
    "\n",
    "class Normalize:\n",
    "    \"\"\"Normalization for tensor inputs\"\"\"\n",
    "    def __init__(self, mean, std):\n",
    "        self.mean = mean.view(8, 1, 1)\n",
    "        self.std = std.view(8, 1, 1)\n",
    "        \n",
    "    def __call__(self, img):\n",
    "        return (img - self.mean) / self.std\n",
    "\n",
    "ssl_transform = transforms.Compose([\n",
    "    ToTensor(),\n",
    "    RandomResizedCropTensor(224),\n",
    "    transforms.RandomHorizontalFlip(),\n",
    "    Normalize(mean, std)\n",
    "])\n",
    "\n",
    "ft_transform = transforms.Compose([\n",
    "    ToTensor(),\n",
    "    ResizeTensor(224),\n",
    "    Normalize(mean, std)\n",
    "])"
   ]
  },
  {
   "cell_type": "code",
   "execution_count": 30,
   "id": "6e620d36-98df-43f6-8de6-245a260f93a7",
   "metadata": {},
   "outputs": [],
   "source": [
    "# Model Architecture\n",
    "def conv3x3(in_planes, out_planes, stride=1):\n",
    "    return nn.Conv2d(in_planes, out_planes, kernel_size=3, stride=stride, padding=1, bias=False)\n",
    "\n",
    "class BasicBlock(nn.Module):\n",
    "    expansion = 1\n",
    "\n",
    "    def __init__(self, inplanes, planes, stride=1, downsample=None):\n",
    "        super().__init__()\n",
    "        self.conv1 = conv3x3(inplanes, planes, stride)\n",
    "        self.bn1 = nn.BatchNorm2d(planes)\n",
    "        self.relu = nn.ReLU(inplace=True)\n",
    "        self.conv2 = conv3x3(planes, planes)\n",
    "        self.bn2 = nn.BatchNorm2d(planes)\n",
    "        self.downsample = downsample\n",
    "        self.stride = stride\n",
    "\n",
    "    def forward(self, x):\n",
    "        identity = x\n",
    "        out = self.conv1(x)\n",
    "        out = self.bn1(out)\n",
    "        out = self.relu(out)\n",
    "        out = self.conv2(out)\n",
    "        out = self.bn2(out)\n",
    "        if self.downsample is not None:\n",
    "            identity = self.downsample(x)\n",
    "        out += identity\n",
    "        out = self.relu(out)\n",
    "        return out\n",
    "\n",
    "class ResNet15(nn.Module):\n",
    "    def __init__(self, in_channels=8):\n",
    "        super().__init__()\n",
    "        self.inplanes = 64\n",
    "        self.conv1 = nn.Conv2d(in_channels, 64, kernel_size=7, stride=2, padding=3, bias=False)\n",
    "        self.bn1 = nn.BatchNorm2d(64)\n",
    "        self.relu = nn.ReLU(inplace=True)\n",
    "        self.maxpool = nn.MaxPool2d(kernel_size=3, stride=2, padding=1)\n",
    "        self.layer1 = self._make_layer(BasicBlock, 64, 2)\n",
    "        self.layer2 = self._make_layer(BasicBlock, 128, 2, stride=2)\n",
    "        self.layer3 = self._make_layer(BasicBlock, 256, 1, stride=2)\n",
    "        self.layer4 = self._make_layer(BasicBlock, 512, 1, stride=2)\n",
    "        self.avgpool = nn.AdaptiveAvgPool2d((1, 1))\n",
    "\n",
    "    def _make_layer(self, block, planes, blocks, stride=1):\n",
    "        downsample = None\n",
    "        if stride != 1 or self.inplanes != planes * block.expansion:\n",
    "            downsample = nn.Sequential(\n",
    "                nn.Conv2d(self.inplanes, planes * block.expansion, kernel_size=1, stride=stride, bias=False),\n",
    "                nn.BatchNorm2d(planes * block.expansion),\n",
    "            )\n",
    "        layers = []\n",
    "        layers.append(block(self.inplanes, planes, stride, downsample))\n",
    "        self.inplanes = planes * block.expansion\n",
    "        for _ in range(1, blocks):\n",
    "            layers.append(block(self.inplanes, planes))\n",
    "        return nn.Sequential(*layers)\n",
    "\n",
    "    def forward(self, x):\n",
    "        x = self.conv1(x)\n",
    "        x = self.bn1(x)\n",
    "        x = self.relu(x)\n",
    "        x = self.maxpool(x)\n",
    "        x = self.layer1(x)\n",
    "        x = self.layer2(x)\n",
    "        x = self.layer3(x)\n",
    "        x = self.layer4(x)\n",
    "        x = self.avgpool(x)\n",
    "        x = torch.flatten(x, 1)\n",
    "        return x\n",
    "\n",
    "class BarlowTwins(nn.Module):\n",
    "    def __init__(self, backbone, projector_dims):\n",
    "        super().__init__()\n",
    "        self.backbone = backbone\n",
    "        self.projector = nn.Sequential(\n",
    "            nn.Linear(512, projector_dims[0]),\n",
    "            nn.BatchNorm1d(projector_dims[0]),\n",
    "            nn.ReLU(),\n",
    "            nn.Linear(projector_dims[0], projector_dims[1]),\n",
    "        )\n",
    "\n",
    "    def forward(self, x):\n",
    "        z = self.backbone(x)\n",
    "        return self.projector(z)\n",
    "    \n",
    "    @staticmethod\n",
    "    def barlow_loss(z_a, z_b, lambda_param=5e-3):\n",
    "        N, D = z_a.size(0), z_a.size(1)\n",
    "        z_a = (z_a - z_a.mean(0)) / (z_a.std(0) + 1e-8)\n",
    "        z_b = (z_b - z_b.mean(0)) / (z_b.std(0) + 1e-8)\n",
    "        c = torch.mm(z_a.T, z_b) / N\n",
    "        loss = (1 - c.diag()).pow(2).sum() + lambda_param * (c.triu(1).pow(2).sum() + c.tril(-1).pow(2).sum())\n",
    "        return loss"
   ]
  },
  {
   "cell_type": "code",
   "execution_count": 31,
   "id": "269bdc9e-e4f0-4da1-9f17-2f43aed0a3b2",
   "metadata": {},
   "outputs": [],
   "source": [
    "# SSL Pretraining\n",
    "def train_ssl(model, loader, epochs=100):\n",
    "    optimizer = optim.Adam(model.parameters(), lr=3e-4)\n",
    "    train_losses = []\n",
    "    best_loss = float('inf')\n",
    "    patience = 5\n",
    "    no_improve = 0\n",
    "    \n",
    "    for epoch in range(epochs):\n",
    "        model.train()\n",
    "        total_loss = 0\n",
    "        for x1, x2 in tqdm(loader, desc=f\"SSL Epoch {epoch+1}\"):\n",
    "            x1, x2 = x1.float().to(device), x2.float().to(device)\n",
    "            \n",
    "            # Forward pass\n",
    "            z1 = model(x1)\n",
    "            z2 = model(x2)\n",
    "            \n",
    "            loss = BarlowTwins.barlow_loss(z1, z2)\n",
    "            \n",
    "            # Backward pass\n",
    "            optimizer.zero_grad()\n",
    "            loss.backward()\n",
    "            optimizer.step()\n",
    "            \n",
    "            total_loss += loss.item()\n",
    "        \n",
    "        avg_loss = total_loss/len(loader)\n",
    "        train_losses.append(avg_loss)\n",
    "        \n",
    "        # Early stopping check\n",
    "        if avg_loss < best_loss - 0.001:\n",
    "            best_loss = avg_loss\n",
    "            no_improve = 0\n",
    "            torch.save(model.backbone.state_dict(), './best_ssl.pth')\n",
    "            print(f\"New best loss: {best_loss:.4f}\")\n",
    "        else:\n",
    "            no_improve += 1\n",
    "        \n",
    "        print(f'Epoch {epoch+1}/{epochs}, Loss: {avg_loss:.4f}, Patience: {no_improve}/{patience}')\n",
    "        \n",
    "        if no_improve >= patience:\n",
    "            print(f'Early stopping triggered at epoch {epoch+1}')\n",
    "            break\n",
    "            \n",
    "    # Plot training curve\n",
    "    plt.figure(figsize=(10, 5))\n",
    "    plt.plot(train_losses, label='SSL Training Loss')\n",
    "    plt.xlabel('Epoch')\n",
    "    plt.ylabel('Loss')\n",
    "    plt.title('Barlow Twins Training Progress')\n",
    "    plt.legend()\n",
    "    plt.grid(True)\n",
    "    plt.savefig('./ssl_training_curve.png')\n",
    "    plt.show()\n",
    "    \n",
    "    return model"
   ]
  },
  {
   "cell_type": "code",
   "execution_count": 32,
   "id": "f22071a2-86c7-4238-9cd3-aaabf47efb42",
   "metadata": {},
   "outputs": [],
   "source": [
    "# Fine-tuning Setup\n",
    "def create_ft_model(pretrained=True):\n",
    "    backbone = ResNet15()\n",
    "    if pretrained:\n",
    "        backbone.load_state_dict(torch.load('./best_ssl.pth'))\n",
    "    return FineTuneModel(backbone, num_classes=len(classes)).to(device)"
   ]
  },
  {
   "cell_type": "code",
   "execution_count": 33,
   "id": "f553a9a4-1989-40ec-88e4-1d9bf00dfa8e",
   "metadata": {},
   "outputs": [],
   "source": [
    "def train_ft(model, train_loader, val_loader, epochs=50):\n",
    "    # 1. Enhanced optimizer with weight decay\n",
    "    optimizer = optim.AdamW(model.parameters(), lr=1e-4, weight_decay=0.01)\n",
    "    \n",
    "    # 2. Learning rate scheduler\n",
    "    scheduler = torch.optim.lr_scheduler.OneCycleLR(\n",
    "        optimizer,\n",
    "        max_lr=3e-4,\n",
    "        steps_per_epoch=len(train_loader),\n",
    "        epochs=epochs,\n",
    "        pct_start=0.3\n",
    "    )\n",
    "    \n",
    "    # 3. Loss tracking\n",
    "    train_losses, val_losses = [], []\n",
    "    best_loss = float('inf')\n",
    "    patience = 5\n",
    "    no_improve = 0\n",
    "    criterion_cls = nn.CrossEntropyLoss()\n",
    "    criterion_reg = nn.SmoothL1Loss()\n",
    "    \n",
    "    # 4. Mixed precision and gradient scaling\n",
    "    scaler = torch.cuda.amp.GradScaler()\n",
    "    \n",
    "    print(f\"\\n{'Epoch':<6} | {'Train Loss':<10} | {'Val Loss':<10} | {'Improv%':<8} | {'Status':<12} | {'LR':<10}\")\n",
    "    print(\"-\"*70)\n",
    "\n",
    "    for epoch in range(epochs):\n",
    "        # Training phase\n",
    "        model.train()\n",
    "        train_loss = 0\n",
    "        for x, y, t in tqdm(train_loader, desc=f\"FT Epoch {epoch+1}\", leave=False):\n",
    "            x, y, t = x.to(device), y.to(device), t.to(device)\n",
    "            \n",
    "            with torch.cuda.amp.autocast():\n",
    "                logits, preds = model(x)\n",
    "                loss = 0.7*criterion_cls(logits, y) + 0.3*criterion_reg(preds.squeeze(), t)\n",
    "            \n",
    "            scaler.scale(loss).backward()\n",
    "            scaler.step(optimizer)\n",
    "            scaler.update()\n",
    "            optimizer.zero_grad()\n",
    "            scheduler.step()\n",
    "            \n",
    "            train_loss += loss.item()\n",
    "\n",
    "        # Validation phase\n",
    "        model.eval()\n",
    "        val_loss = 0\n",
    "        with torch.no_grad():\n",
    "            for x, y, t in val_loader:\n",
    "                x, y, t = x.to(device), y.to(device), t.to(device)\n",
    "                logits, preds = model(x)\n",
    "                val_loss += (0.7*criterion_cls(logits, y) + 0.3*criterion_reg(preds.squeeze(), t)).item()\n",
    "\n",
    "        # Calculate metrics\n",
    "        avg_train = train_loss/len(train_loader)\n",
    "        avg_val = val_loss/len(val_loader)\n",
    "        improvement = (best_loss - avg_val)/abs(best_loss) if best_loss != float('inf') else float('inf')\n",
    "        \n",
    "        # Early stopping\n",
    "        if improvement > 0.01:  # 1% relative improvement\n",
    "            best_loss = avg_val\n",
    "            no_improve = 0\n",
    "            status = \"✔ Improved\"\n",
    "            torch.save(model.state_dict(), './best_ft.pth')\n",
    "        else:\n",
    "            no_improve += 1\n",
    "            status = f\"✖ ({no_improve}/{patience})\"\n",
    "        \n",
    "        # Store losses\n",
    "        train_losses.append(avg_train)\n",
    "        val_losses.append(avg_val)\n",
    "        \n",
    "        # Print progress\n",
    "        print(f\"{epoch+1:03d}/{epochs:03d} | {avg_train:<10.2f} | {avg_val:<10.2f} | \"\n",
    "              f\"{improvement*100:>+6.1f}% | {status:<12} | {optimizer.param_groups[0]['lr']:.1e}\")\n",
    "\n",
    "        if no_improve >= patience:\n",
    "            print(f\"\\nEarly stopping at epoch {epoch+1}\")\n",
    "            break\n",
    "    \n",
    "    # Save final plot\n",
    "    plt.figure(figsize=(10,5))\n",
    "    plt.plot(train_losses, label='Train Loss')\n",
    "    plt.plot(val_losses, label='Val Loss')\n",
    "    plt.title('Fine-tuning Loss Progress')\n",
    "    plt.xlabel('Epochs')\n",
    "    plt.ylabel('Loss')\n",
    "    plt.legend()\n",
    "    plt.savefig('./ft_final_progress.png')\n",
    "    plt.close()\n",
    "    \n",
    "    return model"
   ]
  },
  {
   "cell_type": "code",
   "execution_count": 34,
   "id": "cb56b2b8-9872-404a-9049-643165f75aa3",
   "metadata": {},
   "outputs": [],
   "source": [
    "# Cell 9: Evaluation\n",
    "def evaluate_model(model, loader):\n",
    "    model.eval()\n",
    "    all_preds, all_labels, all_targets = [], [], []\n",
    "    \n",
    "    with torch.no_grad():\n",
    "        for x, y, t in loader:\n",
    "            x = x.float().to(device)\n",
    "            logits, preds = model(x)\n",
    "            \n",
    "            all_preds.extend(logits.argmax(1).cpu().numpy())\n",
    "            all_labels.extend(y.numpy())\n",
    "            all_targets.extend(t.numpy())\n",
    "            all_reg_preds.extend(preds.squeeze().cpu().numpy())\n",
    "    \n",
    "    # Classification metrics\n",
    "    cm = confusion_matrix(all_labels, all_preds)\n",
    "    acc = np.mean(np.array(all_labels) == np.array(all_preds))\n",
    "    \n",
    "    # Regression metrics\n",
    "    rmse = np.sqrt(mean_squared_error(all_targets, all_reg_preds))\n",
    "    \n",
    "    # Plotting\n",
    "    plt.figure(figsize=(12,5))\n",
    "    \n",
    "    plt.subplot(1,2,1)\n",
    "    sns.heatmap(cm, annot=True, fmt='d')\n",
    "    plt.title('Confusion Matrix')\n",
    "    \n",
    "    plt.subplot(1,2,2)\n",
    "    plt.scatter(all_targets, all_reg_preds, alpha=0.3)\n",
    "    plt.plot([min(all_targets), max(all_targets)], [min(all_targets), max(all_targets)], 'r--')\n",
    "    plt.xlabel('True Values')\n",
    "    plt.ylabel('Predictions')\n",
    "    plt.title(f'Regression Results (RMSE: {rmse:.4f})')\n",
    "    \n",
    "    plt.tight_layout()\n",
    "    plt.savefig('./evaluation.png')\n",
    "    plt.show()\n",
    "    \n",
    "    return acc, rmse"
   ]
  },
  {
   "cell_type": "code",
   "execution_count": 35,
   "id": "07587bcd-818e-424c-ab37-c729b3381901",
   "metadata": {},
   "outputs": [],
   "source": [
    "# SSL Pretraining\n",
    "ssl_dataset = UnlabelledDataset('../Dataset_Specific_Unlabelled.h5', ssl_transform)\n",
    "# Cell 7: SSL Pretraining\n",
    "ssl_loader = DataLoader(\n",
    "    UnlabelledDataset('../Dataset_Specific_Unlabelled.h5', transform=ssl_transform),\n",
    "    batch_size=256,\n",
    "    shuffle=True,\n",
    "    num_workers=8,\n",
    "    pin_memory=True,\n",
    "    persistent_workers=True\n",
    ")\n",
    "\n",
    "ssl_model = BarlowTwins(ResNet15(), [2048,2048]).to(device)"
   ]
  },
  {
   "cell_type": "code",
   "execution_count": 36,
   "id": "0d7217a0-5dab-4c70-932d-a37b28562fcc",
   "metadata": {},
   "outputs": [
    {
     "name": "stderr",
     "output_type": "stream",
     "text": [
      "SSL Epoch 1: 100%|██████████| 235/235 [01:47<00:00,  2.18it/s]\n"
     ]
    },
    {
     "name": "stdout",
     "output_type": "stream",
     "text": [
      "New best loss: 861.0040\n",
      "Epoch 1/50, Loss: 861.0040, Patience: 0/5\n"
     ]
    },
    {
     "name": "stderr",
     "output_type": "stream",
     "text": [
      "SSL Epoch 2: 100%|██████████| 235/235 [01:42<00:00,  2.29it/s]\n"
     ]
    },
    {
     "name": "stdout",
     "output_type": "stream",
     "text": [
      "New best loss: 439.3790\n",
      "Epoch 2/50, Loss: 439.3790, Patience: 0/5\n"
     ]
    },
    {
     "name": "stderr",
     "output_type": "stream",
     "text": [
      "SSL Epoch 3: 100%|██████████| 235/235 [01:42<00:00,  2.29it/s]\n"
     ]
    },
    {
     "name": "stdout",
     "output_type": "stream",
     "text": [
      "New best loss: 357.8328\n",
      "Epoch 3/50, Loss: 357.8328, Patience: 0/5\n"
     ]
    },
    {
     "name": "stderr",
     "output_type": "stream",
     "text": [
      "SSL Epoch 4: 100%|██████████| 235/235 [01:43<00:00,  2.27it/s]\n"
     ]
    },
    {
     "name": "stdout",
     "output_type": "stream",
     "text": [
      "New best loss: 325.9533\n",
      "Epoch 4/50, Loss: 325.9533, Patience: 0/5\n"
     ]
    },
    {
     "name": "stderr",
     "output_type": "stream",
     "text": [
      "SSL Epoch 5: 100%|██████████| 235/235 [01:42<00:00,  2.29it/s]\n"
     ]
    },
    {
     "name": "stdout",
     "output_type": "stream",
     "text": [
      "New best loss: 306.0486\n",
      "Epoch 5/50, Loss: 306.0486, Patience: 0/5\n"
     ]
    },
    {
     "name": "stderr",
     "output_type": "stream",
     "text": [
      "SSL Epoch 6: 100%|██████████| 235/235 [01:42<00:00,  2.28it/s]\n"
     ]
    },
    {
     "name": "stdout",
     "output_type": "stream",
     "text": [
      "New best loss: 293.2589\n",
      "Epoch 6/50, Loss: 293.2589, Patience: 0/5\n"
     ]
    },
    {
     "name": "stderr",
     "output_type": "stream",
     "text": [
      "SSL Epoch 7: 100%|██████████| 235/235 [01:43<00:00,  2.27it/s]\n"
     ]
    },
    {
     "name": "stdout",
     "output_type": "stream",
     "text": [
      "New best loss: 282.2971\n",
      "Epoch 7/50, Loss: 282.2971, Patience: 0/5\n"
     ]
    },
    {
     "name": "stderr",
     "output_type": "stream",
     "text": [
      "SSL Epoch 8: 100%|██████████| 235/235 [01:43<00:00,  2.28it/s]\n"
     ]
    },
    {
     "name": "stdout",
     "output_type": "stream",
     "text": [
      "New best loss: 274.3541\n",
      "Epoch 8/50, Loss: 274.3541, Patience: 0/5\n"
     ]
    },
    {
     "name": "stderr",
     "output_type": "stream",
     "text": [
      "SSL Epoch 9: 100%|██████████| 235/235 [01:42<00:00,  2.28it/s]\n"
     ]
    },
    {
     "name": "stdout",
     "output_type": "stream",
     "text": [
      "New best loss: 267.8943\n",
      "Epoch 9/50, Loss: 267.8943, Patience: 0/5\n"
     ]
    },
    {
     "name": "stderr",
     "output_type": "stream",
     "text": [
      "SSL Epoch 10: 100%|██████████| 235/235 [01:43<00:00,  2.27it/s]\n"
     ]
    },
    {
     "name": "stdout",
     "output_type": "stream",
     "text": [
      "New best loss: 262.5391\n",
      "Epoch 10/50, Loss: 262.5391, Patience: 0/5\n"
     ]
    },
    {
     "name": "stderr",
     "output_type": "stream",
     "text": [
      "SSL Epoch 11: 100%|██████████| 235/235 [01:42<00:00,  2.29it/s]\n"
     ]
    },
    {
     "name": "stdout",
     "output_type": "stream",
     "text": [
      "New best loss: 255.7866\n",
      "Epoch 11/50, Loss: 255.7866, Patience: 0/5\n"
     ]
    },
    {
     "name": "stderr",
     "output_type": "stream",
     "text": [
      "SSL Epoch 12: 100%|██████████| 235/235 [01:42<00:00,  2.28it/s]\n"
     ]
    },
    {
     "name": "stdout",
     "output_type": "stream",
     "text": [
      "New best loss: 250.6190\n",
      "Epoch 12/50, Loss: 250.6190, Patience: 0/5\n"
     ]
    },
    {
     "name": "stderr",
     "output_type": "stream",
     "text": [
      "SSL Epoch 13: 100%|██████████| 235/235 [01:43<00:00,  2.28it/s]\n"
     ]
    },
    {
     "name": "stdout",
     "output_type": "stream",
     "text": [
      "New best loss: 247.9620\n",
      "Epoch 13/50, Loss: 247.9620, Patience: 0/5\n"
     ]
    },
    {
     "name": "stderr",
     "output_type": "stream",
     "text": [
      "SSL Epoch 14: 100%|██████████| 235/235 [01:43<00:00,  2.26it/s]\n"
     ]
    },
    {
     "name": "stdout",
     "output_type": "stream",
     "text": [
      "New best loss: 244.8113\n",
      "Epoch 14/50, Loss: 244.8113, Patience: 0/5\n"
     ]
    },
    {
     "name": "stderr",
     "output_type": "stream",
     "text": [
      "SSL Epoch 15: 100%|██████████| 235/235 [01:43<00:00,  2.26it/s]\n"
     ]
    },
    {
     "name": "stdout",
     "output_type": "stream",
     "text": [
      "New best loss: 241.4101\n",
      "Epoch 15/50, Loss: 241.4101, Patience: 0/5\n"
     ]
    },
    {
     "name": "stderr",
     "output_type": "stream",
     "text": [
      "SSL Epoch 16: 100%|██████████| 235/235 [01:44<00:00,  2.26it/s]\n"
     ]
    },
    {
     "name": "stdout",
     "output_type": "stream",
     "text": [
      "New best loss: 238.0972\n",
      "Epoch 16/50, Loss: 238.0972, Patience: 0/5\n"
     ]
    },
    {
     "name": "stderr",
     "output_type": "stream",
     "text": [
      "SSL Epoch 17: 100%|██████████| 235/235 [01:44<00:00,  2.25it/s]\n"
     ]
    },
    {
     "name": "stdout",
     "output_type": "stream",
     "text": [
      "New best loss: 234.9734\n",
      "Epoch 17/50, Loss: 234.9734, Patience: 0/5\n"
     ]
    },
    {
     "name": "stderr",
     "output_type": "stream",
     "text": [
      "SSL Epoch 18: 100%|██████████| 235/235 [01:43<00:00,  2.27it/s]\n"
     ]
    },
    {
     "name": "stdout",
     "output_type": "stream",
     "text": [
      "New best loss: 232.5920\n",
      "Epoch 18/50, Loss: 232.5920, Patience: 0/5\n"
     ]
    },
    {
     "name": "stderr",
     "output_type": "stream",
     "text": [
      "SSL Epoch 19: 100%|██████████| 235/235 [01:44<00:00,  2.25it/s]\n"
     ]
    },
    {
     "name": "stdout",
     "output_type": "stream",
     "text": [
      "New best loss: 229.8900\n",
      "Epoch 19/50, Loss: 229.8900, Patience: 0/5\n"
     ]
    },
    {
     "name": "stderr",
     "output_type": "stream",
     "text": [
      "SSL Epoch 20: 100%|██████████| 235/235 [01:44<00:00,  2.25it/s]\n"
     ]
    },
    {
     "name": "stdout",
     "output_type": "stream",
     "text": [
      "New best loss: 226.1675\n",
      "Epoch 20/50, Loss: 226.1675, Patience: 0/5\n"
     ]
    },
    {
     "name": "stderr",
     "output_type": "stream",
     "text": [
      "SSL Epoch 21: 100%|██████████| 235/235 [01:45<00:00,  2.23it/s]\n"
     ]
    },
    {
     "name": "stdout",
     "output_type": "stream",
     "text": [
      "New best loss: 226.0112\n",
      "Epoch 21/50, Loss: 226.0112, Patience: 0/5\n"
     ]
    },
    {
     "name": "stderr",
     "output_type": "stream",
     "text": [
      "SSL Epoch 22: 100%|██████████| 235/235 [01:44<00:00,  2.25it/s]\n"
     ]
    },
    {
     "name": "stdout",
     "output_type": "stream",
     "text": [
      "New best loss: 224.7048\n",
      "Epoch 22/50, Loss: 224.7048, Patience: 0/5\n"
     ]
    },
    {
     "name": "stderr",
     "output_type": "stream",
     "text": [
      "SSL Epoch 23: 100%|██████████| 235/235 [01:44<00:00,  2.25it/s]\n"
     ]
    },
    {
     "name": "stdout",
     "output_type": "stream",
     "text": [
      "New best loss: 222.1994\n",
      "Epoch 23/50, Loss: 222.1994, Patience: 0/5\n"
     ]
    },
    {
     "name": "stderr",
     "output_type": "stream",
     "text": [
      "SSL Epoch 24: 100%|██████████| 235/235 [01:43<00:00,  2.26it/s]\n"
     ]
    },
    {
     "name": "stdout",
     "output_type": "stream",
     "text": [
      "New best loss: 219.4859\n",
      "Epoch 24/50, Loss: 219.4859, Patience: 0/5\n"
     ]
    },
    {
     "name": "stderr",
     "output_type": "stream",
     "text": [
      "SSL Epoch 25: 100%|██████████| 235/235 [01:44<00:00,  2.25it/s]\n"
     ]
    },
    {
     "name": "stdout",
     "output_type": "stream",
     "text": [
      "New best loss: 217.8856\n",
      "Epoch 25/50, Loss: 217.8856, Patience: 0/5\n"
     ]
    },
    {
     "name": "stderr",
     "output_type": "stream",
     "text": [
      "SSL Epoch 26: 100%|██████████| 235/235 [01:44<00:00,  2.26it/s]\n"
     ]
    },
    {
     "name": "stdout",
     "output_type": "stream",
     "text": [
      "New best loss: 216.9247\n",
      "Epoch 26/50, Loss: 216.9247, Patience: 0/5\n"
     ]
    },
    {
     "name": "stderr",
     "output_type": "stream",
     "text": [
      "SSL Epoch 27: 100%|██████████| 235/235 [01:44<00:00,  2.25it/s]\n"
     ]
    },
    {
     "name": "stdout",
     "output_type": "stream",
     "text": [
      "New best loss: 215.7010\n",
      "Epoch 27/50, Loss: 215.7010, Patience: 0/5\n"
     ]
    },
    {
     "name": "stderr",
     "output_type": "stream",
     "text": [
      "SSL Epoch 28: 100%|██████████| 235/235 [01:44<00:00,  2.25it/s]\n"
     ]
    },
    {
     "name": "stdout",
     "output_type": "stream",
     "text": [
      "New best loss: 214.3821\n",
      "Epoch 28/50, Loss: 214.3821, Patience: 0/5\n"
     ]
    },
    {
     "name": "stderr",
     "output_type": "stream",
     "text": [
      "SSL Epoch 29: 100%|██████████| 235/235 [01:44<00:00,  2.24it/s]\n"
     ]
    },
    {
     "name": "stdout",
     "output_type": "stream",
     "text": [
      "New best loss: 212.3618\n",
      "Epoch 29/50, Loss: 212.3618, Patience: 0/5\n"
     ]
    },
    {
     "name": "stderr",
     "output_type": "stream",
     "text": [
      "SSL Epoch 30: 100%|██████████| 235/235 [01:44<00:00,  2.24it/s]\n"
     ]
    },
    {
     "name": "stdout",
     "output_type": "stream",
     "text": [
      "New best loss: 210.1358\n",
      "Epoch 30/50, Loss: 210.1358, Patience: 0/5\n"
     ]
    },
    {
     "name": "stderr",
     "output_type": "stream",
     "text": [
      "SSL Epoch 31: 100%|██████████| 235/235 [01:44<00:00,  2.25it/s]\n"
     ]
    },
    {
     "name": "stdout",
     "output_type": "stream",
     "text": [
      "New best loss: 208.5294\n",
      "Epoch 31/50, Loss: 208.5294, Patience: 0/5\n"
     ]
    },
    {
     "name": "stderr",
     "output_type": "stream",
     "text": [
      "SSL Epoch 32: 100%|██████████| 235/235 [01:44<00:00,  2.26it/s]\n"
     ]
    },
    {
     "name": "stdout",
     "output_type": "stream",
     "text": [
      "Epoch 32/50, Loss: 208.6953, Patience: 1/5\n"
     ]
    },
    {
     "name": "stderr",
     "output_type": "stream",
     "text": [
      "SSL Epoch 33: 100%|██████████| 235/235 [01:43<00:00,  2.27it/s]\n"
     ]
    },
    {
     "name": "stdout",
     "output_type": "stream",
     "text": [
      "New best loss: 207.5321\n",
      "Epoch 33/50, Loss: 207.5321, Patience: 0/5\n"
     ]
    },
    {
     "name": "stderr",
     "output_type": "stream",
     "text": [
      "SSL Epoch 34: 100%|██████████| 235/235 [01:44<00:00,  2.26it/s]\n"
     ]
    },
    {
     "name": "stdout",
     "output_type": "stream",
     "text": [
      "New best loss: 205.0278\n",
      "Epoch 34/50, Loss: 205.0278, Patience: 0/5\n"
     ]
    },
    {
     "name": "stderr",
     "output_type": "stream",
     "text": [
      "SSL Epoch 35: 100%|██████████| 235/235 [01:44<00:00,  2.25it/s]\n"
     ]
    },
    {
     "name": "stdout",
     "output_type": "stream",
     "text": [
      "New best loss: 204.9566\n",
      "Epoch 35/50, Loss: 204.9566, Patience: 0/5\n"
     ]
    },
    {
     "name": "stderr",
     "output_type": "stream",
     "text": [
      "SSL Epoch 36: 100%|██████████| 235/235 [01:44<00:00,  2.26it/s]\n"
     ]
    },
    {
     "name": "stdout",
     "output_type": "stream",
     "text": [
      "New best loss: 204.1842\n",
      "Epoch 36/50, Loss: 204.1842, Patience: 0/5\n"
     ]
    },
    {
     "name": "stderr",
     "output_type": "stream",
     "text": [
      "SSL Epoch 37: 100%|██████████| 235/235 [01:44<00:00,  2.26it/s]\n"
     ]
    },
    {
     "name": "stdout",
     "output_type": "stream",
     "text": [
      "New best loss: 202.6129\n",
      "Epoch 37/50, Loss: 202.6129, Patience: 0/5\n"
     ]
    },
    {
     "name": "stderr",
     "output_type": "stream",
     "text": [
      "SSL Epoch 38: 100%|██████████| 235/235 [01:45<00:00,  2.23it/s]\n"
     ]
    },
    {
     "name": "stdout",
     "output_type": "stream",
     "text": [
      "New best loss: 201.9711\n",
      "Epoch 38/50, Loss: 201.9711, Patience: 0/5\n"
     ]
    },
    {
     "name": "stderr",
     "output_type": "stream",
     "text": [
      "SSL Epoch 39: 100%|██████████| 235/235 [01:41<00:00,  2.31it/s]\n"
     ]
    },
    {
     "name": "stdout",
     "output_type": "stream",
     "text": [
      "New best loss: 200.7759\n",
      "Epoch 39/50, Loss: 200.7759, Patience: 0/5\n"
     ]
    },
    {
     "name": "stderr",
     "output_type": "stream",
     "text": [
      "SSL Epoch 40: 100%|██████████| 235/235 [01:42<00:00,  2.30it/s]\n"
     ]
    },
    {
     "name": "stdout",
     "output_type": "stream",
     "text": [
      "New best loss: 199.5112\n",
      "Epoch 40/50, Loss: 199.5112, Patience: 0/5\n"
     ]
    },
    {
     "name": "stderr",
     "output_type": "stream",
     "text": [
      "SSL Epoch 41: 100%|██████████| 235/235 [01:42<00:00,  2.29it/s]\n"
     ]
    },
    {
     "name": "stdout",
     "output_type": "stream",
     "text": [
      "New best loss: 198.7727\n",
      "Epoch 41/50, Loss: 198.7727, Patience: 0/5\n"
     ]
    },
    {
     "name": "stderr",
     "output_type": "stream",
     "text": [
      "SSL Epoch 42: 100%|██████████| 235/235 [01:43<00:00,  2.28it/s]\n"
     ]
    },
    {
     "name": "stdout",
     "output_type": "stream",
     "text": [
      "New best loss: 197.6508\n",
      "Epoch 42/50, Loss: 197.6508, Patience: 0/5\n"
     ]
    },
    {
     "name": "stderr",
     "output_type": "stream",
     "text": [
      "SSL Epoch 43: 100%|██████████| 235/235 [01:43<00:00,  2.26it/s]\n"
     ]
    },
    {
     "name": "stdout",
     "output_type": "stream",
     "text": [
      "Epoch 43/50, Loss: 197.7602, Patience: 1/5\n"
     ]
    },
    {
     "name": "stderr",
     "output_type": "stream",
     "text": [
      "SSL Epoch 44: 100%|██████████| 235/235 [01:43<00:00,  2.27it/s]\n"
     ]
    },
    {
     "name": "stdout",
     "output_type": "stream",
     "text": [
      "New best loss: 196.6457\n",
      "Epoch 44/50, Loss: 196.6457, Patience: 0/5\n"
     ]
    },
    {
     "name": "stderr",
     "output_type": "stream",
     "text": [
      "SSL Epoch 45: 100%|██████████| 235/235 [01:43<00:00,  2.28it/s]\n"
     ]
    },
    {
     "name": "stdout",
     "output_type": "stream",
     "text": [
      "New best loss: 194.8208\n",
      "Epoch 45/50, Loss: 194.8208, Patience: 0/5\n"
     ]
    },
    {
     "name": "stderr",
     "output_type": "stream",
     "text": [
      "SSL Epoch 46: 100%|██████████| 235/235 [01:43<00:00,  2.28it/s]\n"
     ]
    },
    {
     "name": "stdout",
     "output_type": "stream",
     "text": [
      "Epoch 46/50, Loss: 195.2218, Patience: 1/5\n"
     ]
    },
    {
     "name": "stderr",
     "output_type": "stream",
     "text": [
      "SSL Epoch 47: 100%|██████████| 235/235 [01:43<00:00,  2.26it/s]\n"
     ]
    },
    {
     "name": "stdout",
     "output_type": "stream",
     "text": [
      "New best loss: 194.0003\n",
      "Epoch 47/50, Loss: 194.0003, Patience: 0/5\n"
     ]
    },
    {
     "name": "stderr",
     "output_type": "stream",
     "text": [
      "SSL Epoch 48: 100%|██████████| 235/235 [01:43<00:00,  2.26it/s]\n"
     ]
    },
    {
     "name": "stdout",
     "output_type": "stream",
     "text": [
      "New best loss: 193.9579\n",
      "Epoch 48/50, Loss: 193.9579, Patience: 0/5\n"
     ]
    },
    {
     "name": "stderr",
     "output_type": "stream",
     "text": [
      "SSL Epoch 49: 100%|██████████| 235/235 [01:44<00:00,  2.26it/s]\n"
     ]
    },
    {
     "name": "stdout",
     "output_type": "stream",
     "text": [
      "New best loss: 192.2619\n",
      "Epoch 49/50, Loss: 192.2619, Patience: 0/5\n"
     ]
    },
    {
     "name": "stderr",
     "output_type": "stream",
     "text": [
      "SSL Epoch 50: 100%|██████████| 235/235 [01:44<00:00,  2.26it/s]\n"
     ]
    },
    {
     "name": "stdout",
     "output_type": "stream",
     "text": [
      "New best loss: 191.5458\n",
      "Epoch 50/50, Loss: 191.5458, Patience: 0/5\n"
     ]
    },
    {
     "data": {
      "image/png": "[encoded data removed]",
      "text/plain": [
       "<Figure size 1000x500 with 1 Axes>"
      ]
     },
     "metadata": {},
     "output_type": "display_data"
    },
    {
     "data": {
      "text/plain": [
       "BarlowTwins(\n",
       "  (backbone): ResNet15(\n",
       "    (conv1): Conv2d(8, 64, kernel_size=(7, 7), stride=(2, 2), padding=(3, 3), bias=False)\n",
       "    (bn1): BatchNorm2d(64, eps=1e-05, momentum=0.1, affine=True, track_running_stats=True)\n",
       "    (relu): ReLU(inplace=True)\n",
       "    (maxpool): MaxPool2d(kernel_size=3, stride=2, padding=1, dilation=1, ceil_mode=False)\n",
       "    (layer1): Sequential(\n",
       "      (0): BasicBlock(\n",
       "        (conv1): Conv2d(64, 64, kernel_size=(3, 3), stride=(1, 1), padding=(1, 1), bias=False)\n",
       "        (bn1): BatchNorm2d(64, eps=1e-05, momentum=0.1, affine=True, track_running_stats=True)\n",
       "        (relu): ReLU(inplace=True)\n",
       "        (conv2): Conv2d(64, 64, kernel_size=(3, 3), stride=(1, 1), padding=(1, 1), bias=False)\n",
       "        (bn2): BatchNorm2d(64, eps=1e-05, momentum=0.1, affine=True, track_running_stats=True)\n",
       "      )\n",
       "      (1): BasicBlock(\n",
       "        (conv1): Conv2d(64, 64, kernel_size=(3, 3), stride=(1, 1), padding=(1, 1), bias=False)\n",
       "        (bn1): BatchNorm2d(64, eps=1e-05, momentum=0.1, affine=True, track_running_stats=True)\n",
       "        (relu): ReLU(inplace=True)\n",
       "        (conv2): Conv2d(64, 64, kernel_size=(3, 3), stride=(1, 1), padding=(1, 1), bias=False)\n",
       "        (bn2): BatchNorm2d(64, eps=1e-05, momentum=0.1, affine=True, track_running_stats=True)\n",
       "      )\n",
       "    )\n",
       "    (layer2): Sequential(\n",
       "      (0): BasicBlock(\n",
       "        (conv1): Conv2d(64, 128, kernel_size=(3, 3), stride=(2, 2), padding=(1, 1), bias=False)\n",
       "        (bn1): BatchNorm2d(128, eps=1e-05, momentum=0.1, affine=True, track_running_stats=True)\n",
       "        (relu): ReLU(inplace=True)\n",
       "        (conv2): Conv2d(128, 128, kernel_size=(3, 3), stride=(1, 1), padding=(1, 1), bias=False)\n",
       "        (bn2): BatchNorm2d(128, eps=1e-05, momentum=0.1, affine=True, track_running_stats=True)\n",
       "        (downsample): Sequential(\n",
       "          (0): Conv2d(64, 128, kernel_size=(1, 1), stride=(2, 2), bias=False)\n",
       "          (1): BatchNorm2d(128, eps=1e-05, momentum=0.1, affine=True, track_running_stats=True)\n",
       "        )\n",
       "      )\n",
       "      (1): BasicBlock(\n",
       "        (conv1): Conv2d(128, 128, kernel_size=(3, 3), stride=(1, 1), padding=(1, 1), bias=False)\n",
       "        (bn1): BatchNorm2d(128, eps=1e-05, momentum=0.1, affine=True, track_running_stats=True)\n",
       "        (relu): ReLU(inplace=True)\n",
       "        (conv2): Conv2d(128, 128, kernel_size=(3, 3), stride=(1, 1), padding=(1, 1), bias=False)\n",
       "        (bn2): BatchNorm2d(128, eps=1e-05, momentum=0.1, affine=True, track_running_stats=True)\n",
       "      )\n",
       "    )\n",
       "    (layer3): Sequential(\n",
       "      (0): BasicBlock(\n",
       "        (conv1): Conv2d(128, 256, kernel_size=(3, 3), stride=(2, 2), padding=(1, 1), bias=False)\n",
       "        (bn1): BatchNorm2d(256, eps=1e-05, momentum=0.1, affine=True, track_running_stats=True)\n",
       "        (relu): ReLU(inplace=True)\n",
       "        (conv2): Conv2d(256, 256, kernel_size=(3, 3), stride=(1, 1), padding=(1, 1), bias=False)\n",
       "        (bn2): BatchNorm2d(256, eps=1e-05, momentum=0.1, affine=True, track_running_stats=True)\n",
       "        (downsample): Sequential(\n",
       "          (0): Conv2d(128, 256, kernel_size=(1, 1), stride=(2, 2), bias=False)\n",
       "          (1): BatchNorm2d(256, eps=1e-05, momentum=0.1, affine=True, track_running_stats=True)\n",
       "        )\n",
       "      )\n",
       "    )\n",
       "    (layer4): Sequential(\n",
       "      (0): BasicBlock(\n",
       "        (conv1): Conv2d(256, 512, kernel_size=(3, 3), stride=(2, 2), padding=(1, 1), bias=False)\n",
       "        (bn1): BatchNorm2d(512, eps=1e-05, momentum=0.1, affine=True, track_running_stats=True)\n",
       "        (relu): ReLU(inplace=True)\n",
       "        (conv2): Conv2d(512, 512, kernel_size=(3, 3), stride=(1, 1), padding=(1, 1), bias=False)\n",
       "        (bn2): BatchNorm2d(512, eps=1e-05, momentum=0.1, affine=True, track_running_stats=True)\n",
       "        (downsample): Sequential(\n",
       "          (0): Conv2d(256, 512, kernel_size=(1, 1), stride=(2, 2), bias=False)\n",
       "          (1): BatchNorm2d(512, eps=1e-05, momentum=0.1, affine=True, track_running_stats=True)\n",
       "        )\n",
       "      )\n",
       "    )\n",
       "    (avgpool): AdaptiveAvgPool2d(output_size=(1, 1))\n",
       "  )\n",
       "  (projector): Sequential(\n",
       "    (0): Linear(in_features=512, out_features=2048, bias=True)\n",
       "    (1): BatchNorm1d(2048, eps=1e-05, momentum=0.1, affine=True, track_running_stats=True)\n",
       "    (2): ReLU()\n",
       "    (3): Linear(in_features=2048, out_features=2048, bias=True)\n",
       "  )\n",
       ")"
      ]
     },
     "execution_count": 36,
     "metadata": {},
     "output_type": "execute_result"
    }
   ],
   "source": [
    "train_ssl(ssl_model, ssl_loader, epochs=50)"
   ]
  },
  {
   "cell_type": "code",
   "execution_count": 37,
   "id": "391ae801-d925-4027-873b-f76b2d34f082",
   "metadata": {},
   "outputs": [],
   "source": [
    "# Fine-tuning\n",
    "ft_dataset = LabelledDataset('../Dataset_Specific_labelled_full_only_for_2i.h5', ft_transform)\n",
    "train_size = int(0.8*len(ft_dataset))\n",
    "train_set, test_set = random_split(ft_dataset, [train_size, len(ft_dataset)-train_size])"
   ]
  },
  {
   "cell_type": "code",
   "execution_count": 38,
   "id": "126b55bb-4363-4711-9290-31ecd285f6cc",
   "metadata": {},
   "outputs": [],
   "source": [
    "class FineTuneModel(nn.Module):\n",
    "    def __init__(self, backbone, num_classes):\n",
    "        super().__init__()\n",
    "        self.backbone = backbone\n",
    "        # Freeze backbone initially\n",
    "        for param in self.backbone.parameters():\n",
    "            param.requires_grad = False\n",
    "            \n",
    "        # Add classification and regression heads\n",
    "        self.classifier = nn.Linear(512, num_classes)\n",
    "        self.regressor = nn.Linear(512, 1)\n",
    "        \n",
    "    def forward(self, x):\n",
    "        features = self.backbone(x)\n",
    "        return self.classifier(features), self.regressor(features)"
   ]
  },
  {
   "cell_type": "code",
   "execution_count": 39,
   "id": "03fb7553-371c-443b-a3e1-f06aab0671ce",
   "metadata": {},
   "outputs": [],
   "source": [
    "def create_loaders(dataset, val_ratio=0.1):\n",
    "    # Split into train and validation\n",
    "    val_size = int(len(dataset) * val_ratio)\n",
    "    train_size = len(dataset) - val_size\n",
    "    train_set, val_set = random_split(dataset, [train_size, val_size])\n",
    "    \n",
    "    train_loader = DataLoader(\n",
    "        train_set,\n",
    "        batch_size=64,\n",
    "        shuffle=True,\n",
    "        num_workers=8,\n",
    "        pin_memory=True\n",
    "    )\n",
    "    \n",
    "    val_loader = DataLoader(\n",
    "        val_set,\n",
    "        batch_size=64,\n",
    "        num_workers=8,\n",
    "        pin_memory=True\n",
    "    )\n",
    "    \n",
    "    return train_loader, val_loader"
   ]
  },
  {
   "cell_type": "code",
   "execution_count": 40,
   "id": "d5ad84e1-1404-442c-a537-8ae5d3e68ee6",
   "metadata": {},
   "outputs": [],
   "source": [
    "def create_ft_model(pretrained=True):\n",
    "    backbone = ResNet15()\n",
    "    if pretrained:\n",
    "        # Load pretrained weights\n",
    "        backbone.load_state_dict(torch.load('./best_ssl.pth'))\n",
    "    \n",
    "    # Get number of classes from dataset\n",
    "    labelled_dataset = LabelledDataset('../Dataset_Specific_labelled_full_only_for_2i.h5', ft_transform)\n",
    "    num_classes = len(torch.unique(torch.tensor([label for _, label, _ in labelled_dataset])))\n",
    "    \n",
    "    return FineTuneModel(backbone, num_classes).to(device)"
   ]
  },
  {
   "cell_type": "code",
   "execution_count": 41,
   "id": "540f3b60-c178-4684-b183-1cd35d5ed266",
   "metadata": {},
   "outputs": [
    {
     "name": "stdout",
     "output_type": "stream",
     "text": [
      "Fine-tuning pretrained model:\n",
      "\n",
      "Epoch  | Train Loss | Val Loss   | Improv%  | Status       | LR        \n",
      "----------------------------------------------------------------------\n"
     ]
    },
    {
     "name": "stderr",
     "output_type": "stream",
     "text": [
      "                                                             "
     ]
    },
    {
     "name": "stdout",
     "output_type": "stream",
     "text": [
      "001/100 | 43.15      | 43.41      |   +inf% | ✔ Improved   | 1.3e-05\n"
     ]
    },
    {
     "name": "stderr",
     "output_type": "stream",
     "text": [
      "                                                             "
     ]
    },
    {
     "name": "stdout",
     "output_type": "stream",
     "text": [
      "002/100 | 43.09      | 43.34      |   +0.2% | ✖ (1/5)      | 1.5e-05\n"
     ]
    },
    {
     "name": "stderr",
     "output_type": "stream",
     "text": [
      "                                                             "
     ]
    },
    {
     "name": "stdout",
     "output_type": "stream",
     "text": [
      "003/100 | 43.03      | 43.26      |   +0.4% | ✖ (2/5)      | 1.9e-05\n"
     ]
    },
    {
     "name": "stderr",
     "output_type": "stream",
     "text": [
      "                                                             "
     ]
    },
    {
     "name": "stdout",
     "output_type": "stream",
     "text": [
      "004/100 | 42.93      | 43.16      |   +0.6% | ✖ (3/5)      | 2.4e-05\n"
     ]
    },
    {
     "name": "stderr",
     "output_type": "stream",
     "text": [
      "                                                             "
     ]
    },
    {
     "name": "stdout",
     "output_type": "stream",
     "text": [
      "005/100 | 42.81      | 43.03      |   +0.9% | ✖ (4/5)      | 3.1e-05\n"
     ]
    },
    {
     "name": "stderr",
     "output_type": "stream",
     "text": [
      "                                                             "
     ]
    },
    {
     "name": "stdout",
     "output_type": "stream",
     "text": [
      "006/100 | 42.66      | 42.86      |   +1.3% | ✔ Improved   | 4.0e-05\n"
     ]
    },
    {
     "name": "stderr",
     "output_type": "stream",
     "text": [
      "                                                             "
     ]
    },
    {
     "name": "stdout",
     "output_type": "stream",
     "text": [
      "007/100 | 42.48      | 42.66      |   +0.5% | ✖ (1/5)      | 4.9e-05\n"
     ]
    },
    {
     "name": "stderr",
     "output_type": "stream",
     "text": [
      "                                                             "
     ]
    },
    {
     "name": "stdout",
     "output_type": "stream",
     "text": [
      "008/100 | 42.27      | 42.42      |   +1.0% | ✔ Improved   | 6.0e-05\n"
     ]
    },
    {
     "name": "stderr",
     "output_type": "stream",
     "text": [
      "                                                             "
     ]
    },
    {
     "name": "stdout",
     "output_type": "stream",
     "text": [
      "009/100 | 42.00      | 42.12      |   +0.7% | ✖ (1/5)      | 7.1e-05\n"
     ]
    },
    {
     "name": "stderr",
     "output_type": "stream",
     "text": [
      "                                                              "
     ]
    },
    {
     "name": "stdout",
     "output_type": "stream",
     "text": [
      "010/100 | 41.69      | 41.78      |   +1.5% | ✔ Improved   | 8.4e-05\n"
     ]
    },
    {
     "name": "stderr",
     "output_type": "stream",
     "text": [
      "                                                              "
     ]
    },
    {
     "name": "stdout",
     "output_type": "stream",
     "text": [
      "011/100 | 41.33      | 41.38      |   +1.0% | ✖ (1/5)      | 9.7e-05\n"
     ]
    },
    {
     "name": "stderr",
     "output_type": "stream",
     "text": [
      "                                                              "
     ]
    },
    {
     "name": "stdout",
     "output_type": "stream",
     "text": [
      "012/100 | 40.90      | 40.93      |   +2.0% | ✔ Improved   | 1.1e-04\n"
     ]
    },
    {
     "name": "stderr",
     "output_type": "stream",
     "text": [
      "                                                              "
     ]
    },
    {
     "name": "stdout",
     "output_type": "stream",
     "text": [
      "013/100 | 40.41      | 40.38      |   +1.3% | ✔ Improved   | 1.3e-04\n"
     ]
    },
    {
     "name": "stderr",
     "output_type": "stream",
     "text": [
      "                                                              "
     ]
    },
    {
     "name": "stdout",
     "output_type": "stream",
     "text": [
      "014/100 | 39.87      | 39.81      |   +1.4% | ✔ Improved   | 1.4e-04\n"
     ]
    },
    {
     "name": "stderr",
     "output_type": "stream",
     "text": [
      "                                                              "
     ]
    },
    {
     "name": "stdout",
     "output_type": "stream",
     "text": [
      "015/100 | 39.25      | 39.16      |   +1.6% | ✔ Improved   | 1.6e-04\n"
     ]
    },
    {
     "name": "stderr",
     "output_type": "stream",
     "text": [
      "                                                              "
     ]
    },
    {
     "name": "stdout",
     "output_type": "stream",
     "text": [
      "016/100 | 38.58      | 38.42      |   +1.9% | ✔ Improved   | 1.7e-04\n"
     ]
    },
    {
     "name": "stderr",
     "output_type": "stream",
     "text": [
      "                                                              "
     ]
    },
    {
     "name": "stdout",
     "output_type": "stream",
     "text": [
      "017/100 | 37.84      | 37.62      |   +2.1% | ✔ Improved   | 1.9e-04\n"
     ]
    },
    {
     "name": "stderr",
     "output_type": "stream",
     "text": [
      "                                                              "
     ]
    },
    {
     "name": "stdout",
     "output_type": "stream",
     "text": [
      "018/100 | 37.03      | 36.70      |   +2.5% | ✔ Improved   | 2.0e-04\n"
     ]
    },
    {
     "name": "stderr",
     "output_type": "stream",
     "text": [
      "                                                              "
     ]
    },
    {
     "name": "stdout",
     "output_type": "stream",
     "text": [
      "019/100 | 36.15      | 35.86      |   +2.3% | ✔ Improved   | 2.1e-04\n"
     ]
    },
    {
     "name": "stderr",
     "output_type": "stream",
     "text": [
      "                                                              "
     ]
    },
    {
     "name": "stdout",
     "output_type": "stream",
     "text": [
      "020/100 | 35.21      | 34.87      |   +2.8% | ✔ Improved   | 2.3e-04\n"
     ]
    },
    {
     "name": "stderr",
     "output_type": "stream",
     "text": [
      "                                                              "
     ]
    },
    {
     "name": "stdout",
     "output_type": "stream",
     "text": [
      "021/100 | 34.24      | 33.78      |   +3.1% | ✔ Improved   | 2.4e-04\n"
     ]
    },
    {
     "name": "stderr",
     "output_type": "stream",
     "text": [
      "                                                              "
     ]
    },
    {
     "name": "stdout",
     "output_type": "stream",
     "text": [
      "022/100 | 33.20      | 32.72      |   +3.1% | ✔ Improved   | 2.5e-04\n"
     ]
    },
    {
     "name": "stderr",
     "output_type": "stream",
     "text": [
      "                                                              "
     ]
    },
    {
     "name": "stdout",
     "output_type": "stream",
     "text": [
      "023/100 | 32.11      | 31.60      |   +3.4% | ✔ Improved   | 2.6e-04\n"
     ]
    },
    {
     "name": "stderr",
     "output_type": "stream",
     "text": [
      "                                                              "
     ]
    },
    {
     "name": "stdout",
     "output_type": "stream",
     "text": [
      "024/100 | 30.99      | 30.41      |   +3.8% | ✔ Improved   | 2.7e-04\n"
     ]
    },
    {
     "name": "stderr",
     "output_type": "stream",
     "text": [
      "                                                              "
     ]
    },
    {
     "name": "stdout",
     "output_type": "stream",
     "text": [
      "025/100 | 29.83      | 29.22      |   +3.9% | ✔ Improved   | 2.8e-04\n"
     ]
    },
    {
     "name": "stderr",
     "output_type": "stream",
     "text": [
      "                                                              "
     ]
    },
    {
     "name": "stdout",
     "output_type": "stream",
     "text": [
      "026/100 | 28.67      | 27.95      |   +4.3% | ✔ Improved   | 2.9e-04\n"
     ]
    },
    {
     "name": "stderr",
     "output_type": "stream",
     "text": [
      "                                                              "
     ]
    },
    {
     "name": "stdout",
     "output_type": "stream",
     "text": [
      "027/100 | 27.48      | 26.92      |   +3.7% | ✔ Improved   | 2.9e-04\n"
     ]
    },
    {
     "name": "stderr",
     "output_type": "stream",
     "text": [
      "                                                              "
     ]
    },
    {
     "name": "stdout",
     "output_type": "stream",
     "text": [
      "028/100 | 26.36      | 25.63      |   +4.8% | ✔ Improved   | 3.0e-04\n"
     ]
    },
    {
     "name": "stderr",
     "output_type": "stream",
     "text": [
      "                                                              "
     ]
    },
    {
     "name": "stdout",
     "output_type": "stream",
     "text": [
      "029/100 | 25.25      | 24.54      |   +4.3% | ✔ Improved   | 3.0e-04\n"
     ]
    },
    {
     "name": "stderr",
     "output_type": "stream",
     "text": [
      "                                                              "
     ]
    },
    {
     "name": "stdout",
     "output_type": "stream",
     "text": [
      "030/100 | 24.16      | 23.42      |   +4.5% | ✔ Improved   | 3.0e-04\n"
     ]
    },
    {
     "name": "stderr",
     "output_type": "stream",
     "text": [
      "                                                              "
     ]
    },
    {
     "name": "stdout",
     "output_type": "stream",
     "text": [
      "031/100 | 23.10      | 22.51      |   +3.9% | ✔ Improved   | 3.0e-04\n"
     ]
    },
    {
     "name": "stderr",
     "output_type": "stream",
     "text": [
      "                                                              "
     ]
    },
    {
     "name": "stdout",
     "output_type": "stream",
     "text": [
      "032/100 | 22.14      | 21.60      |   +4.1% | ✔ Improved   | 3.0e-04\n"
     ]
    },
    {
     "name": "stderr",
     "output_type": "stream",
     "text": [
      "                                                              "
     ]
    },
    {
     "name": "stdout",
     "output_type": "stream",
     "text": [
      "033/100 | 21.22      | 20.62      |   +4.5% | ✔ Improved   | 3.0e-04\n"
     ]
    },
    {
     "name": "stderr",
     "output_type": "stream",
     "text": [
      "                                                              "
     ]
    },
    {
     "name": "stdout",
     "output_type": "stream",
     "text": [
      "034/100 | 20.41      | 19.96      |   +3.2% | ✔ Improved   | 3.0e-04\n"
     ]
    },
    {
     "name": "stderr",
     "output_type": "stream",
     "text": [
      "                                                              "
     ]
    },
    {
     "name": "stdout",
     "output_type": "stream",
     "text": [
      "035/100 | 19.63      | 19.06      |   +4.5% | ✔ Improved   | 3.0e-04\n"
     ]
    },
    {
     "name": "stderr",
     "output_type": "stream",
     "text": [
      "                                                              "
     ]
    },
    {
     "name": "stdout",
     "output_type": "stream",
     "text": [
      "036/100 | 18.89      | 18.35      |   +3.7% | ✔ Improved   | 2.9e-04\n"
     ]
    },
    {
     "name": "stderr",
     "output_type": "stream",
     "text": [
      "                                                              "
     ]
    },
    {
     "name": "stdout",
     "output_type": "stream",
     "text": [
      "037/100 | 18.23      | 17.68      |   +3.6% | ✔ Improved   | 2.9e-04\n"
     ]
    },
    {
     "name": "stderr",
     "output_type": "stream",
     "text": [
      "                                                              "
     ]
    },
    {
     "name": "stdout",
     "output_type": "stream",
     "text": [
      "038/100 | 17.62      | 17.27      |   +2.4% | ✔ Improved   | 2.9e-04\n"
     ]
    },
    {
     "name": "stderr",
     "output_type": "stream",
     "text": [
      "                                                              "
     ]
    },
    {
     "name": "stdout",
     "output_type": "stream",
     "text": [
      "039/100 | 17.12      | 16.70      |   +3.3% | ✔ Improved   | 2.9e-04\n"
     ]
    },
    {
     "name": "stderr",
     "output_type": "stream",
     "text": [
      "                                                              "
     ]
    },
    {
     "name": "stdout",
     "output_type": "stream",
     "text": [
      "040/100 | 16.64      | 16.39      |   +1.8% | ✔ Improved   | 2.9e-04\n"
     ]
    },
    {
     "name": "stderr",
     "output_type": "stream",
     "text": [
      "                                                              "
     ]
    },
    {
     "name": "stdout",
     "output_type": "stream",
     "text": [
      "041/100 | 16.22      | 15.80      |   +3.6% | ✔ Improved   | 2.8e-04\n"
     ]
    },
    {
     "name": "stderr",
     "output_type": "stream",
     "text": [
      "                                                              "
     ]
    },
    {
     "name": "stdout",
     "output_type": "stream",
     "text": [
      "042/100 | 15.82      | 15.49      |   +2.0% | ✔ Improved   | 2.8e-04\n"
     ]
    },
    {
     "name": "stderr",
     "output_type": "stream",
     "text": [
      "                                                              "
     ]
    },
    {
     "name": "stdout",
     "output_type": "stream",
     "text": [
      "043/100 | 15.45      | 15.24      |   +1.6% | ✔ Improved   | 2.8e-04\n"
     ]
    },
    {
     "name": "stderr",
     "output_type": "stream",
     "text": [
      "                                                              "
     ]
    },
    {
     "name": "stdout",
     "output_type": "stream",
     "text": [
      "044/100 | 15.17      | 14.84      |   +2.6% | ✔ Improved   | 2.7e-04\n"
     ]
    },
    {
     "name": "stderr",
     "output_type": "stream",
     "text": [
      "                                                              "
     ]
    },
    {
     "name": "stdout",
     "output_type": "stream",
     "text": [
      "045/100 | 14.91      | 14.67      |   +1.1% | ✔ Improved   | 2.7e-04\n"
     ]
    },
    {
     "name": "stderr",
     "output_type": "stream",
     "text": [
      "                                                              "
     ]
    },
    {
     "name": "stdout",
     "output_type": "stream",
     "text": [
      "046/100 | 14.64      | 14.48      |   +1.3% | ✔ Improved   | 2.6e-04\n"
     ]
    },
    {
     "name": "stderr",
     "output_type": "stream",
     "text": [
      "                                                              "
     ]
    },
    {
     "name": "stdout",
     "output_type": "stream",
     "text": [
      "047/100 | 14.44      | 14.24      |   +1.7% | ✔ Improved   | 2.6e-04\n"
     ]
    },
    {
     "name": "stderr",
     "output_type": "stream",
     "text": [
      "                                                              "
     ]
    },
    {
     "name": "stdout",
     "output_type": "stream",
     "text": [
      "048/100 | 14.25      | 14.05      |   +1.3% | ✔ Improved   | 2.5e-04\n"
     ]
    },
    {
     "name": "stderr",
     "output_type": "stream",
     "text": [
      "                                                              "
     ]
    },
    {
     "name": "stdout",
     "output_type": "stream",
     "text": [
      "049/100 | 14.04      | 13.93      |   +0.9% | ✖ (1/5)      | 2.5e-04\n"
     ]
    },
    {
     "name": "stderr",
     "output_type": "stream",
     "text": [
      "                                                              "
     ]
    },
    {
     "name": "stdout",
     "output_type": "stream",
     "text": [
      "050/100 | 13.94      | 13.77      |   +2.0% | ✔ Improved   | 2.4e-04\n"
     ]
    },
    {
     "name": "stderr",
     "output_type": "stream",
     "text": [
      "                                                              "
     ]
    },
    {
     "name": "stdout",
     "output_type": "stream",
     "text": [
      "051/100 | 13.78      | 13.64      |   +1.0% | ✖ (1/5)      | 2.4e-04\n"
     ]
    },
    {
     "name": "stderr",
     "output_type": "stream",
     "text": [
      "                                                              "
     ]
    },
    {
     "name": "stdout",
     "output_type": "stream",
     "text": [
      "052/100 | 13.67      | 13.54      |   +1.7% | ✔ Improved   | 2.3e-04\n"
     ]
    },
    {
     "name": "stderr",
     "output_type": "stream",
     "text": [
      "                                                              "
     ]
    },
    {
     "name": "stdout",
     "output_type": "stream",
     "text": [
      "053/100 | 13.57      | 13.37      |   +1.3% | ✔ Improved   | 2.3e-04\n"
     ]
    },
    {
     "name": "stderr",
     "output_type": "stream",
     "text": [
      "                                                              "
     ]
    },
    {
     "name": "stdout",
     "output_type": "stream",
     "text": [
      "054/100 | 13.47      | 13.34      |   +0.2% | ✖ (1/5)      | 2.2e-04\n"
     ]
    },
    {
     "name": "stderr",
     "output_type": "stream",
     "text": [
      "                                                              "
     ]
    },
    {
     "name": "stdout",
     "output_type": "stream",
     "text": [
      "055/100 | 13.32      | 13.23      |   +1.0% | ✔ Improved   | 2.2e-04\n"
     ]
    },
    {
     "name": "stderr",
     "output_type": "stream",
     "text": [
      "                                                              "
     ]
    },
    {
     "name": "stdout",
     "output_type": "stream",
     "text": [
      "056/100 | 13.23      | 13.15      |   +0.6% | ✖ (1/5)      | 2.1e-04\n"
     ]
    },
    {
     "name": "stderr",
     "output_type": "stream",
     "text": [
      "                                                              "
     ]
    },
    {
     "name": "stdout",
     "output_type": "stream",
     "text": [
      "057/100 | 13.22      | 13.14      |   +0.7% | ✖ (2/5)      | 2.0e-04\n"
     ]
    },
    {
     "name": "stderr",
     "output_type": "stream",
     "text": [
      "                                                              "
     ]
    },
    {
     "name": "stdout",
     "output_type": "stream",
     "text": [
      "058/100 | 13.12      | 13.00      |   +1.7% | ✔ Improved   | 2.0e-04\n"
     ]
    },
    {
     "name": "stderr",
     "output_type": "stream",
     "text": [
      "                                                              "
     ]
    },
    {
     "name": "stdout",
     "output_type": "stream",
     "text": [
      "059/100 | 13.09      | 12.92      |   +0.7% | ✖ (1/5)      | 1.9e-04\n"
     ]
    },
    {
     "name": "stderr",
     "output_type": "stream",
     "text": [
      "                                                              "
     ]
    },
    {
     "name": "stdout",
     "output_type": "stream",
     "text": [
      "060/100 | 12.98      | 12.85      |   +1.2% | ✔ Improved   | 1.8e-04\n"
     ]
    },
    {
     "name": "stderr",
     "output_type": "stream",
     "text": [
      "                                                              "
     ]
    },
    {
     "name": "stdout",
     "output_type": "stream",
     "text": [
      "061/100 | 12.92      | 12.76      |   +0.7% | ✖ (1/5)      | 1.8e-04\n"
     ]
    },
    {
     "name": "stderr",
     "output_type": "stream",
     "text": [
      "                                                              "
     ]
    },
    {
     "name": "stdout",
     "output_type": "stream",
     "text": [
      "062/100 | 12.85      | 12.79      |   +0.4% | ✖ (2/5)      | 1.7e-04\n"
     ]
    },
    {
     "name": "stderr",
     "output_type": "stream",
     "text": [
      "                                                              "
     ]
    },
    {
     "name": "stdout",
     "output_type": "stream",
     "text": [
      "063/100 | 12.82      | 12.67      |   +1.4% | ✔ Improved   | 1.6e-04\n"
     ]
    },
    {
     "name": "stderr",
     "output_type": "stream",
     "text": [
      "                                                              "
     ]
    },
    {
     "name": "stdout",
     "output_type": "stream",
     "text": [
      "064/100 | 12.79      | 12.71      |   -0.3% | ✖ (1/5)      | 1.6e-04\n"
     ]
    },
    {
     "name": "stderr",
     "output_type": "stream",
     "text": [
      "                                                              "
     ]
    },
    {
     "name": "stdout",
     "output_type": "stream",
     "text": [
      "065/100 | 12.76      | 12.68      |   -0.1% | ✖ (2/5)      | 1.5e-04\n"
     ]
    },
    {
     "name": "stderr",
     "output_type": "stream",
     "text": [
      "                                                              "
     ]
    },
    {
     "name": "stdout",
     "output_type": "stream",
     "text": [
      "066/100 | 12.70      | 12.61      |   +0.5% | ✖ (3/5)      | 1.4e-04\n"
     ]
    },
    {
     "name": "stderr",
     "output_type": "stream",
     "text": [
      "                                                              "
     ]
    },
    {
     "name": "stdout",
     "output_type": "stream",
     "text": [
      "067/100 | 12.66      | 12.54      |   +1.0% | ✔ Improved   | 1.4e-04\n"
     ]
    },
    {
     "name": "stderr",
     "output_type": "stream",
     "text": [
      "                                                              "
     ]
    },
    {
     "name": "stdout",
     "output_type": "stream",
     "text": [
      "068/100 | 12.60      | 12.60      |   -0.5% | ✖ (1/5)      | 1.3e-04\n"
     ]
    },
    {
     "name": "stderr",
     "output_type": "stream",
     "text": [
      "                                                              "
     ]
    },
    {
     "name": "stdout",
     "output_type": "stream",
     "text": [
      "069/100 | 12.63      | 12.51      |   +0.2% | ✖ (2/5)      | 1.2e-04\n"
     ]
    },
    {
     "name": "stderr",
     "output_type": "stream",
     "text": [
      "                                                              "
     ]
    },
    {
     "name": "stdout",
     "output_type": "stream",
     "text": [
      "070/100 | 12.58      | 12.51      |   +0.2% | ✖ (3/5)      | 1.2e-04\n"
     ]
    },
    {
     "name": "stderr",
     "output_type": "stream",
     "text": [
      "                                                              "
     ]
    },
    {
     "name": "stdout",
     "output_type": "stream",
     "text": [
      "071/100 | 12.56      | 12.50      |   +0.3% | ✖ (4/5)      | 1.1e-04\n"
     ]
    },
    {
     "name": "stderr",
     "output_type": "stream",
     "text": [
      "                                                              "
     ]
    },
    {
     "name": "stdout",
     "output_type": "stream",
     "text": [
      "072/100 | 12.48      | 12.50      |   +0.3% | ✖ (5/5)      | 1.0e-04\n",
      "\n",
      "Early stopping at epoch 72\n",
      "\n",
      "Training from scratch:\n",
      "\n",
      "Epoch  | Train Loss | Val Loss   | Improv%  | Status       | LR        \n",
      "----------------------------------------------------------------------\n"
     ]
    },
    {
     "name": "stderr",
     "output_type": "stream",
     "text": [
      "                                                             "
     ]
    },
    {
     "name": "stdout",
     "output_type": "stream",
     "text": [
      "001/100 | 43.17      | 42.70      |   +inf% | ✔ Improved   | 1.3e-05\n"
     ]
    },
    {
     "name": "stderr",
     "output_type": "stream",
     "text": [
      "                                                             "
     ]
    },
    {
     "name": "stdout",
     "output_type": "stream",
     "text": [
      "002/100 | 43.04      | 42.56      |   +0.3% | ✖ (1/5)      | 1.5e-05\n"
     ]
    },
    {
     "name": "stderr",
     "output_type": "stream",
     "text": [
      "                                                             "
     ]
    },
    {
     "name": "stdout",
     "output_type": "stream",
     "text": [
      "003/100 | 42.87      | 42.38      |   +0.7% | ✖ (2/5)      | 1.9e-05\n"
     ]
    },
    {
     "name": "stderr",
     "output_type": "stream",
     "text": [
      "                                                             "
     ]
    },
    {
     "name": "stdout",
     "output_type": "stream",
     "text": [
      "004/100 | 42.66      | 42.15      |   +1.3% | ✔ Improved   | 2.4e-05\n"
     ]
    },
    {
     "name": "stderr",
     "output_type": "stream",
     "text": [
      "                                                             "
     ]
    },
    {
     "name": "stdout",
     "output_type": "stream",
     "text": [
      "005/100 | 42.42      | 41.86      |   +0.7% | ✖ (1/5)      | 3.1e-05\n"
     ]
    },
    {
     "name": "stderr",
     "output_type": "stream",
     "text": [
      "                                                             "
     ]
    },
    {
     "name": "stdout",
     "output_type": "stream",
     "text": [
      "006/100 | 42.09      | 41.50      |   +1.6% | ✔ Improved   | 4.0e-05\n"
     ]
    },
    {
     "name": "stderr",
     "output_type": "stream",
     "text": [
      "                                                             "
     ]
    },
    {
     "name": "stdout",
     "output_type": "stream",
     "text": [
      "007/100 | 41.68      | 41.04      |   +1.1% | ✔ Improved   | 4.9e-05\n"
     ]
    },
    {
     "name": "stderr",
     "output_type": "stream",
     "text": [
      "                                                             "
     ]
    },
    {
     "name": "stdout",
     "output_type": "stream",
     "text": [
      "008/100 | 41.16      | 40.49      |   +1.3% | ✔ Improved   | 6.0e-05\n"
     ]
    },
    {
     "name": "stderr",
     "output_type": "stream",
     "text": [
      "                                                             "
     ]
    },
    {
     "name": "stdout",
     "output_type": "stream",
     "text": [
      "009/100 | 40.54      | 39.79      |   +1.7% | ✔ Improved   | 7.1e-05\n"
     ]
    },
    {
     "name": "stderr",
     "output_type": "stream",
     "text": [
      "                                                              "
     ]
    },
    {
     "name": "stdout",
     "output_type": "stream",
     "text": [
      "010/100 | 39.80      | 39.01      |   +2.0% | ✔ Improved   | 8.4e-05\n"
     ]
    },
    {
     "name": "stderr",
     "output_type": "stream",
     "text": [
      "                                                              "
     ]
    },
    {
     "name": "stdout",
     "output_type": "stream",
     "text": [
      "011/100 | 38.93      | 38.06      |   +2.4% | ✔ Improved   | 9.7e-05\n"
     ]
    },
    {
     "name": "stderr",
     "output_type": "stream",
     "text": [
      "                                                              "
     ]
    },
    {
     "name": "stdout",
     "output_type": "stream",
     "text": [
      "012/100 | 37.92      | 37.00      |   +2.8% | ✔ Improved   | 1.1e-04\n"
     ]
    },
    {
     "name": "stderr",
     "output_type": "stream",
     "text": [
      "                                                              "
     ]
    },
    {
     "name": "stdout",
     "output_type": "stream",
     "text": [
      "013/100 | 36.76      | 35.75      |   +3.4% | ✔ Improved   | 1.3e-04\n"
     ]
    },
    {
     "name": "stderr",
     "output_type": "stream",
     "text": [
      "                                                              "
     ]
    },
    {
     "name": "stdout",
     "output_type": "stream",
     "text": [
      "014/100 | 35.47      | 34.35      |   +3.9% | ✔ Improved   | 1.4e-04\n"
     ]
    },
    {
     "name": "stderr",
     "output_type": "stream",
     "text": [
      "                                                              "
     ]
    },
    {
     "name": "stdout",
     "output_type": "stream",
     "text": [
      "015/100 | 34.02      | 32.84      |   +4.4% | ✔ Improved   | 1.6e-04\n"
     ]
    },
    {
     "name": "stderr",
     "output_type": "stream",
     "text": [
      "                                                              "
     ]
    },
    {
     "name": "stdout",
     "output_type": "stream",
     "text": [
      "016/100 | 32.41      | 31.16      |   +5.1% | ✔ Improved   | 1.7e-04\n"
     ]
    },
    {
     "name": "stderr",
     "output_type": "stream",
     "text": [
      "                                                              "
     ]
    },
    {
     "name": "stdout",
     "output_type": "stream",
     "text": [
      "017/100 | 30.62      | 29.32      |   +5.9% | ✔ Improved   | 1.9e-04\n"
     ]
    },
    {
     "name": "stderr",
     "output_type": "stream",
     "text": [
      "                                                              "
     ]
    },
    {
     "name": "stdout",
     "output_type": "stream",
     "text": [
      "018/100 | 28.72      | 27.30      |   +6.9% | ✔ Improved   | 2.0e-04\n"
     ]
    },
    {
     "name": "stderr",
     "output_type": "stream",
     "text": [
      "                                                              "
     ]
    },
    {
     "name": "stdout",
     "output_type": "stream",
     "text": [
      "019/100 | 26.67      | 25.20      |   +7.7% | ✔ Improved   | 2.1e-04\n"
     ]
    },
    {
     "name": "stderr",
     "output_type": "stream",
     "text": [
      "                                                              "
     ]
    },
    {
     "name": "stdout",
     "output_type": "stream",
     "text": [
      "020/100 | 24.54      | 23.03      |   +8.6% | ✔ Improved   | 2.3e-04\n"
     ]
    },
    {
     "name": "stderr",
     "output_type": "stream",
     "text": [
      "                                                              "
     ]
    },
    {
     "name": "stdout",
     "output_type": "stream",
     "text": [
      "021/100 | 22.39      | 20.98      |   +8.9% | ✔ Improved   | 2.4e-04\n"
     ]
    },
    {
     "name": "stderr",
     "output_type": "stream",
     "text": [
      "                                                              "
     ]
    },
    {
     "name": "stdout",
     "output_type": "stream",
     "text": [
      "022/100 | 20.32      | 18.96      |   +9.6% | ✔ Improved   | 2.5e-04\n"
     ]
    },
    {
     "name": "stderr",
     "output_type": "stream",
     "text": [
      "                                                              "
     ]
    },
    {
     "name": "stdout",
     "output_type": "stream",
     "text": [
      "023/100 | 18.45      | 17.20      |   +9.3% | ✔ Improved   | 2.6e-04\n"
     ]
    },
    {
     "name": "stderr",
     "output_type": "stream",
     "text": [
      "                                                              "
     ]
    },
    {
     "name": "stdout",
     "output_type": "stream",
     "text": [
      "024/100 | 16.84      | 15.75      |   +8.4% | ✔ Improved   | 2.7e-04\n"
     ]
    },
    {
     "name": "stderr",
     "output_type": "stream",
     "text": [
      "                                                              "
     ]
    },
    {
     "name": "stdout",
     "output_type": "stream",
     "text": [
      "025/100 | 15.56      | 14.69      |   +6.7% | ✔ Improved   | 2.8e-04\n"
     ]
    },
    {
     "name": "stderr",
     "output_type": "stream",
     "text": [
      "                                                              "
     ]
    },
    {
     "name": "stdout",
     "output_type": "stream",
     "text": [
      "026/100 | 14.57      | 13.80      |   +6.0% | ✔ Improved   | 2.9e-04\n"
     ]
    },
    {
     "name": "stderr",
     "output_type": "stream",
     "text": [
      "                                                              "
     ]
    },
    {
     "name": "stdout",
     "output_type": "stream",
     "text": [
      "027/100 | 13.83      | 13.21      |   +4.3% | ✔ Improved   | 2.9e-04\n"
     ]
    },
    {
     "name": "stderr",
     "output_type": "stream",
     "text": [
      "                                                              "
     ]
    },
    {
     "name": "stdout",
     "output_type": "stream",
     "text": [
      "028/100 | 13.29      | 12.74      |   +3.6% | ✔ Improved   | 3.0e-04\n"
     ]
    },
    {
     "name": "stderr",
     "output_type": "stream",
     "text": [
      "                                                              "
     ]
    },
    {
     "name": "stdout",
     "output_type": "stream",
     "text": [
      "029/100 | 12.93      | 12.40      |   +2.7% | ✔ Improved   | 3.0e-04\n"
     ]
    },
    {
     "name": "stderr",
     "output_type": "stream",
     "text": [
      "                                                              "
     ]
    },
    {
     "name": "stdout",
     "output_type": "stream",
     "text": [
      "030/100 | 12.65      | 12.18      |   +1.8% | ✔ Improved   | 3.0e-04\n"
     ]
    },
    {
     "name": "stderr",
     "output_type": "stream",
     "text": [
      "                                                              "
     ]
    },
    {
     "name": "stdout",
     "output_type": "stream",
     "text": [
      "031/100 | 12.46      | 12.03      |   +1.2% | ✔ Improved   | 3.0e-04\n"
     ]
    },
    {
     "name": "stderr",
     "output_type": "stream",
     "text": [
      "                                                              "
     ]
    },
    {
     "name": "stdout",
     "output_type": "stream",
     "text": [
      "032/100 | 12.35      | 11.91      |   +1.0% | ✔ Improved   | 3.0e-04\n"
     ]
    },
    {
     "name": "stderr",
     "output_type": "stream",
     "text": [
      "                                                              "
     ]
    },
    {
     "name": "stdout",
     "output_type": "stream",
     "text": [
      "033/100 | 12.27      | 11.81      |   +0.8% | ✖ (1/5)      | 3.0e-04\n"
     ]
    },
    {
     "name": "stderr",
     "output_type": "stream",
     "text": [
      "                                                              "
     ]
    },
    {
     "name": "stdout",
     "output_type": "stream",
     "text": [
      "034/100 | 12.20      | 11.77      |   +1.1% | ✔ Improved   | 3.0e-04\n"
     ]
    },
    {
     "name": "stderr",
     "output_type": "stream",
     "text": [
      "                                                              "
     ]
    },
    {
     "name": "stdout",
     "output_type": "stream",
     "text": [
      "035/100 | 12.15      | 11.73      |   +0.3% | ✖ (1/5)      | 3.0e-04\n"
     ]
    },
    {
     "name": "stderr",
     "output_type": "stream",
     "text": [
      "                                                              "
     ]
    },
    {
     "name": "stdout",
     "output_type": "stream",
     "text": [
      "036/100 | 12.14      | 11.71      |   +0.5% | ✖ (2/5)      | 2.9e-04\n"
     ]
    },
    {
     "name": "stderr",
     "output_type": "stream",
     "text": [
      "                                                              "
     ]
    },
    {
     "name": "stdout",
     "output_type": "stream",
     "text": [
      "037/100 | 12.12      | 11.69      |   +0.7% | ✖ (3/5)      | 2.9e-04\n"
     ]
    },
    {
     "name": "stderr",
     "output_type": "stream",
     "text": [
      "                                                              "
     ]
    },
    {
     "name": "stdout",
     "output_type": "stream",
     "text": [
      "038/100 | 12.10      | 11.68      |   +0.7% | ✖ (4/5)      | 2.9e-04\n"
     ]
    },
    {
     "name": "stderr",
     "output_type": "stream",
     "text": [
      "                                                              "
     ]
    },
    {
     "name": "stdout",
     "output_type": "stream",
     "text": [
      "039/100 | 12.09      | 11.68      |   +0.8% | ✖ (5/5)      | 2.9e-04\n",
      "\n",
      "Early stopping at epoch 39\n"
     ]
    },
    {
     "data": {
      "text/plain": [
       "FineTuneModel(\n",
       "  (backbone): ResNet15(\n",
       "    (conv1): Conv2d(8, 64, kernel_size=(7, 7), stride=(2, 2), padding=(3, 3), bias=False)\n",
       "    (bn1): BatchNorm2d(64, eps=1e-05, momentum=0.1, affine=True, track_running_stats=True)\n",
       "    (relu): ReLU(inplace=True)\n",
       "    (maxpool): MaxPool2d(kernel_size=3, stride=2, padding=1, dilation=1, ceil_mode=False)\n",
       "    (layer1): Sequential(\n",
       "      (0): BasicBlock(\n",
       "        (conv1): Conv2d(64, 64, kernel_size=(3, 3), stride=(1, 1), padding=(1, 1), bias=False)\n",
       "        (bn1): BatchNorm2d(64, eps=1e-05, momentum=0.1, affine=True, track_running_stats=True)\n",
       "        (relu): ReLU(inplace=True)\n",
       "        (conv2): Conv2d(64, 64, kernel_size=(3, 3), stride=(1, 1), padding=(1, 1), bias=False)\n",
       "        (bn2): BatchNorm2d(64, eps=1e-05, momentum=0.1, affine=True, track_running_stats=True)\n",
       "      )\n",
       "      (1): BasicBlock(\n",
       "        (conv1): Conv2d(64, 64, kernel_size=(3, 3), stride=(1, 1), padding=(1, 1), bias=False)\n",
       "        (bn1): BatchNorm2d(64, eps=1e-05, momentum=0.1, affine=True, track_running_stats=True)\n",
       "        (relu): ReLU(inplace=True)\n",
       "        (conv2): Conv2d(64, 64, kernel_size=(3, 3), stride=(1, 1), padding=(1, 1), bias=False)\n",
       "        (bn2): BatchNorm2d(64, eps=1e-05, momentum=0.1, affine=True, track_running_stats=True)\n",
       "      )\n",
       "    )\n",
       "    (layer2): Sequential(\n",
       "      (0): BasicBlock(\n",
       "        (conv1): Conv2d(64, 128, kernel_size=(3, 3), stride=(2, 2), padding=(1, 1), bias=False)\n",
       "        (bn1): BatchNorm2d(128, eps=1e-05, momentum=0.1, affine=True, track_running_stats=True)\n",
       "        (relu): ReLU(inplace=True)\n",
       "        (conv2): Conv2d(128, 128, kernel_size=(3, 3), stride=(1, 1), padding=(1, 1), bias=False)\n",
       "        (bn2): BatchNorm2d(128, eps=1e-05, momentum=0.1, affine=True, track_running_stats=True)\n",
       "        (downsample): Sequential(\n",
       "          (0): Conv2d(64, 128, kernel_size=(1, 1), stride=(2, 2), bias=False)\n",
       "          (1): BatchNorm2d(128, eps=1e-05, momentum=0.1, affine=True, track_running_stats=True)\n",
       "        )\n",
       "      )\n",
       "      (1): BasicBlock(\n",
       "        (conv1): Conv2d(128, 128, kernel_size=(3, 3), stride=(1, 1), padding=(1, 1), bias=False)\n",
       "        (bn1): BatchNorm2d(128, eps=1e-05, momentum=0.1, affine=True, track_running_stats=True)\n",
       "        (relu): ReLU(inplace=True)\n",
       "        (conv2): Conv2d(128, 128, kernel_size=(3, 3), stride=(1, 1), padding=(1, 1), bias=False)\n",
       "        (bn2): BatchNorm2d(128, eps=1e-05, momentum=0.1, affine=True, track_running_stats=True)\n",
       "      )\n",
       "    )\n",
       "    (layer3): Sequential(\n",
       "      (0): BasicBlock(\n",
       "        (conv1): Conv2d(128, 256, kernel_size=(3, 3), stride=(2, 2), padding=(1, 1), bias=False)\n",
       "        (bn1): BatchNorm2d(256, eps=1e-05, momentum=0.1, affine=True, track_running_stats=True)\n",
       "        (relu): ReLU(inplace=True)\n",
       "        (conv2): Conv2d(256, 256, kernel_size=(3, 3), stride=(1, 1), padding=(1, 1), bias=False)\n",
       "        (bn2): BatchNorm2d(256, eps=1e-05, momentum=0.1, affine=True, track_running_stats=True)\n",
       "        (downsample): Sequential(\n",
       "          (0): Conv2d(128, 256, kernel_size=(1, 1), stride=(2, 2), bias=False)\n",
       "          (1): BatchNorm2d(256, eps=1e-05, momentum=0.1, affine=True, track_running_stats=True)\n",
       "        )\n",
       "      )\n",
       "    )\n",
       "    (layer4): Sequential(\n",
       "      (0): BasicBlock(\n",
       "        (conv1): Conv2d(256, 512, kernel_size=(3, 3), stride=(2, 2), padding=(1, 1), bias=False)\n",
       "        (bn1): BatchNorm2d(512, eps=1e-05, momentum=0.1, affine=True, track_running_stats=True)\n",
       "        (relu): ReLU(inplace=True)\n",
       "        (conv2): Conv2d(512, 512, kernel_size=(3, 3), stride=(1, 1), padding=(1, 1), bias=False)\n",
       "        (bn2): BatchNorm2d(512, eps=1e-05, momentum=0.1, affine=True, track_running_stats=True)\n",
       "        (downsample): Sequential(\n",
       "          (0): Conv2d(256, 512, kernel_size=(1, 1), stride=(2, 2), bias=False)\n",
       "          (1): BatchNorm2d(512, eps=1e-05, momentum=0.1, affine=True, track_running_stats=True)\n",
       "        )\n",
       "      )\n",
       "    )\n",
       "    (avgpool): AdaptiveAvgPool2d(output_size=(1, 1))\n",
       "  )\n",
       "  (classifier): Linear(in_features=512, out_features=2, bias=True)\n",
       "  (regressor): Linear(in_features=512, out_features=1, bias=True)\n",
       ")"
      ]
     },
     "execution_count": 41,
     "metadata": {},
     "output_type": "execute_result"
    }
   ],
   "source": [
    "ft_model = create_ft_model(pretrained=True)\n",
    "scratch_model = create_ft_model(pretrained=False)\n",
    "\n",
    "# 3. Create datasets\n",
    "train_set = LabelledDataset('../Dataset_Specific_labelled_full_only_for_2i.h5', ft_transform)\n",
    "\n",
    "# 4. Train models\n",
    "print(\"Fine-tuning pretrained model:\")\n",
    "train_ft(ft_model, *create_loaders(train_set), epochs=100)\n",
    "\n",
    "print(\"\\nTraining from scratch:\")\n",
    "train_ft(scratch_model, *create_loaders(train_set), epochs=100)"
   ]
  },
  {
   "cell_type": "code",
   "execution_count": 46,
   "id": "cb3d3066-7069-4271-8eee-cfb1d03f91d4",
   "metadata": {},
   "outputs": [],
   "source": [
    "torch.save(scratch_model.state_dict(), 'best_scratch.pth')"
   ]
  },
  {
   "cell_type": "code",
   "execution_count": 42,
   "id": "3705af50-c1bf-44a3-bd86-346bea042b8b",
   "metadata": {},
   "outputs": [],
   "source": [
    "def evaluate_model(model, loader):\n",
    "    model.eval()\n",
    "    all_preds = []\n",
    "    all_labels = []\n",
    "    all_targets = []\n",
    "    all_reg_preds = []\n",
    "    \n",
    "    with torch.no_grad():\n",
    "        for x, y, t in loader:\n",
    "            x = x.to(device)\n",
    "            logits, preds = model(x)\n",
    "            \n",
    "            # Store classification and regression results\n",
    "            all_preds.extend(logits.argmax(1).cpu().numpy())\n",
    "            all_labels.extend(y.numpy())\n",
    "            all_targets.extend(t.numpy())\n",
    "            all_reg_preds.extend(preds.squeeze().cpu().numpy())\n",
    "    \n",
    "    # Classification metrics\n",
    "    acc = (np.array(all_preds) == np.array(all_labels)).mean()\n",
    "    \n",
    "    # Regression metrics\n",
    "    rmse = np.sqrt(mean_squared_error(all_targets, all_reg_preds))\n",
    "    \n",
    "    # Generate plots\n",
    "    plt.figure(figsize=(12,5))\n",
    "    \n",
    "    # Confusion matrix\n",
    "    plt.subplot(1,2,1)\n",
    "    cm = confusion_matrix(all_labels, all_preds)\n",
    "    sns.heatmap(cm, annot=True, fmt='d')\n",
    "    plt.title('Confusion Matrix')\n",
    "    \n",
    "    # Regression scatter plot\n",
    "    plt.subplot(1,2,2)\n",
    "    plt.scatter(all_targets, all_reg_preds, alpha=0.3)\n",
    "    plt.plot([min(all_targets), max(all_targets)], \n",
    "             [min(all_targets), max(all_targets)], 'r--')\n",
    "    plt.xlabel('True Values')\n",
    "    plt.ylabel('Predictions')\n",
    "    plt.title(f'Regression (RMSE: {rmse:.4f})')\n",
    "    \n",
    "    plt.tight_layout()\n",
    "    plt.savefig('model_evaluation.png')\n",
    "    plt.close()\n",
    "    \n",
    "    return acc, rmse"
   ]
  },
  {
   "cell_type": "code",
   "execution_count": 43,
   "id": "fd641895-ff8a-4f85-82f8-7941644a8308",
   "metadata": {},
   "outputs": [
    {
     "name": "stdout",
     "output_type": "stream",
     "text": [
      "\n",
      "Evaluating models:\n",
      "Pretrained Model:\n",
      "Accuracy: 0.7535, RMSE: 48.5507\n",
      "\n",
      "Scratch Model:\n",
      "Accuracy: 0.7080, RMSE: 45.6150\n"
     ]
    },
    {
     "data": {
      "image/png": "[encoded data removed]",
      "text/plain": [
       "<Figure size 1000x500 with 1 Axes>"
      ]
     },
     "metadata": {},
     "output_type": "display_data"
    },
    {
     "data": {
      "image/png": "[encoded data removed]",
      "text/plain": [
       "<Figure size 1000x500 with 1 Axes>"
      ]
     },
     "metadata": {},
     "output_type": "display_data"
    }
   ],
   "source": [
    "print(\"\\nEvaluating models:\")\n",
    "print(\"Pretrained Model:\")\n",
    "ft_acc, ft_rmse = evaluate_model(ft_model, DataLoader(test_set, batch_size=64))\n",
    "print(f\"Accuracy: {ft_acc:.4f}, RMSE: {ft_rmse:.4f}\")\n",
    "\n",
    "print(\"\\nScratch Model:\")\n",
    "scratch_acc, scratch_rmse = evaluate_model(scratch_model, DataLoader(test_set, batch_size=64))\n",
    "print(f\"Accuracy: {scratch_acc:.4f}, RMSE: {scratch_rmse:.4f}\")\n",
    "\n",
    "# Generate comparison plots\n",
    "plt.figure(figsize=(10,5))\n",
    "plt.bar([0, 1], [ft_acc, scratch_acc], tick_label=['Fine-tuned', 'Scratch'])\n",
    "plt.title('Classification Accuracy Comparison')\n",
    "plt.ylabel('Accuracy')\n",
    "plt.ylim(0, 1)\n",
    "plt.savefig('./accuracy_comparison.png')\n",
    "\n",
    "plt.figure(figsize=(10,5))\n",
    "plt.bar([0, 1], [ft_rmse, scratch_rmse], tick_label=['Fine-tuned', 'Scratch'])\n",
    "plt.title('Regression RMSE Comparison')\n",
    "plt.ylabel('RMSE')\n",
    "plt.savefig('./rmse_comparison.png')"
   ]
  },
  {
   "cell_type": "code",
   "execution_count": 44,
   "id": "50a8b5b7-f0be-430a-b35f-6f3999043cf3",
   "metadata": {},
   "outputs": [
    {
     "data": {
      "image/png": "[encoded data removed]",
      "text/plain": [
       "<Figure size 1000x500 with 1 Axes>"
      ]
     },
     "metadata": {},
     "output_type": "display_data"
    }
   ],
   "source": [
    "import matplotlib.pyplot as plt\n",
    "import matplotlib.image as mpimg\n",
    "img = mpimg.imread('./model_evaluation.png')\n",
    "\n",
    "plt.figure(figsize=(10,5))\n",
    "plt.imshow(img)\n",
    "plt.axis('off')\n",
    "plt.show()"
   ]
  },
  {
   "cell_type": "code",
   "execution_count": 45,
   "id": "bf5a1ba6-4255-4995-b02a-ff7feb707268",
   "metadata": {},
   "outputs": [
    {
     "data": {
      "image/png": "[encoded data removed]",
      "text/plain": [
       "<Figure size 1000x500 with 1 Axes>"
      ]
     },
     "metadata": {},
     "output_type": "display_data"
    }
   ],
   "source": [
    "img = mpimg.imread('./ft_final_progress.png')\n",
    "\n",
    "plt.figure(figsize=(10,5))\n",
    "plt.imshow(img)\n",
    "plt.axis('off')\n",
    "plt.show()"
   ]
  },
  {
   "cell_type": "code",
   "execution_count": 53,
   "id": "08b369b7-0517-427c-8a72-4ef08075891c",
   "metadata": {},
   "outputs": [
    {
     "name": "stdout",
     "output_type": "stream",
     "text": [
      "\n",
      "----------------------------------------\n",
      "SSL Pretrained Backbone Architecture:\n",
      "----------------------------------------\n",
      "conv1: Conv2d\n",
      "bn1: BatchNorm2d\n",
      "relu: ReLU\n",
      "maxpool: MaxPool2d\n",
      "layer1.0.conv1: Conv2d\n",
      "layer1.0.bn1: BatchNorm2d\n",
      "layer1.0.relu: ReLU\n",
      "layer1.0.conv2: Conv2d\n",
      "layer1.0.bn2: BatchNorm2d\n",
      "layer1.1.conv1: Conv2d\n",
      "layer1.1.bn1: BatchNorm2d\n",
      "layer1.1.relu: ReLU\n",
      "layer1.1.conv2: Conv2d\n",
      "layer1.1.bn2: BatchNorm2d\n",
      "layer2.0.conv1: Conv2d\n",
      "layer2.0.bn1: BatchNorm2d\n",
      "layer2.0.relu: ReLU\n",
      "layer2.0.conv2: Conv2d\n",
      "layer2.0.bn2: BatchNorm2d\n",
      "layer2.0.downsample.0: Conv2d\n",
      "layer2.0.downsample.1: BatchNorm2d\n",
      "layer2.1.conv1: Conv2d\n",
      "layer2.1.bn1: BatchNorm2d\n",
      "layer2.1.relu: ReLU\n",
      "layer2.1.conv2: Conv2d\n",
      "layer2.1.bn2: BatchNorm2d\n",
      "layer3.0.conv1: Conv2d\n",
      "layer3.0.bn1: BatchNorm2d\n",
      "layer3.0.relu: ReLU\n",
      "layer3.0.conv2: Conv2d\n",
      "layer3.0.bn2: BatchNorm2d\n",
      "layer3.0.downsample.0: Conv2d\n",
      "layer3.0.downsample.1: BatchNorm2d\n",
      "layer4.0.conv1: Conv2d\n",
      "layer4.0.bn1: BatchNorm2d\n",
      "layer4.0.relu: ReLU\n",
      "layer4.0.conv2: Conv2d\n",
      "layer4.0.bn2: BatchNorm2d\n",
      "layer4.0.downsample.0: Conv2d\n",
      "layer4.0.downsample.1: BatchNorm2d\n",
      "avgpool: AdaptiveAvgPool2d\n",
      "----------------------------------------\n",
      "\n",
      "\n",
      "----------------------------------------\n",
      "Fine-Tuned Model Architecture:\n",
      "----------------------------------------\n",
      "backbone.conv1: Conv2d\n",
      "backbone.bn1: BatchNorm2d\n",
      "backbone.relu: ReLU\n",
      "backbone.maxpool: MaxPool2d\n",
      "backbone.layer1.0.conv1: Conv2d\n",
      "backbone.layer1.0.bn1: BatchNorm2d\n",
      "backbone.layer1.0.relu: ReLU\n",
      "backbone.layer1.0.conv2: Conv2d\n",
      "backbone.layer1.0.bn2: BatchNorm2d\n",
      "backbone.layer1.1.conv1: Conv2d\n",
      "backbone.layer1.1.bn1: BatchNorm2d\n",
      "backbone.layer1.1.relu: ReLU\n",
      "backbone.layer1.1.conv2: Conv2d\n",
      "backbone.layer1.1.bn2: BatchNorm2d\n",
      "backbone.layer2.0.conv1: Conv2d\n",
      "backbone.layer2.0.bn1: BatchNorm2d\n",
      "backbone.layer2.0.relu: ReLU\n",
      "backbone.layer2.0.conv2: Conv2d\n",
      "backbone.layer2.0.bn2: BatchNorm2d\n",
      "backbone.layer2.0.downsample.0: Conv2d\n",
      "backbone.layer2.0.downsample.1: BatchNorm2d\n",
      "backbone.layer2.1.conv1: Conv2d\n",
      "backbone.layer2.1.bn1: BatchNorm2d\n",
      "backbone.layer2.1.relu: ReLU\n",
      "backbone.layer2.1.conv2: Conv2d\n",
      "backbone.layer2.1.bn2: BatchNorm2d\n",
      "backbone.layer3.0.conv1: Conv2d\n",
      "backbone.layer3.0.bn1: BatchNorm2d\n",
      "backbone.layer3.0.relu: ReLU\n",
      "backbone.layer3.0.conv2: Conv2d\n",
      "backbone.layer3.0.bn2: BatchNorm2d\n",
      "backbone.layer3.0.downsample.0: Conv2d\n",
      "backbone.layer3.0.downsample.1: BatchNorm2d\n",
      "backbone.layer4.0.conv1: Conv2d\n",
      "backbone.layer4.0.bn1: BatchNorm2d\n",
      "backbone.layer4.0.relu: ReLU\n",
      "backbone.layer4.0.conv2: Conv2d\n",
      "backbone.layer4.0.bn2: BatchNorm2d\n",
      "backbone.layer4.0.downsample.0: Conv2d\n",
      "backbone.layer4.0.downsample.1: BatchNorm2d\n",
      "backbone.avgpool: AdaptiveAvgPool2d\n",
      "classifier: Linear\n",
      "regressor: Linear\n",
      "----------------------------------------\n",
      "\n",
      "\n",
      "----------------------------------------\n",
      "Scratch Model Architecture:\n",
      "----------------------------------------\n",
      "backbone.conv1: Conv2d\n",
      "backbone.bn1: BatchNorm2d\n",
      "backbone.relu: ReLU\n",
      "backbone.maxpool: MaxPool2d\n",
      "backbone.layer1.0.conv1: Conv2d\n",
      "backbone.layer1.0.bn1: BatchNorm2d\n",
      "backbone.layer1.0.relu: ReLU\n",
      "backbone.layer1.0.conv2: Conv2d\n",
      "backbone.layer1.0.bn2: BatchNorm2d\n",
      "backbone.layer1.1.conv1: Conv2d\n",
      "backbone.layer1.1.bn1: BatchNorm2d\n",
      "backbone.layer1.1.relu: ReLU\n",
      "backbone.layer1.1.conv2: Conv2d\n",
      "backbone.layer1.1.bn2: BatchNorm2d\n",
      "backbone.layer2.0.conv1: Conv2d\n",
      "backbone.layer2.0.bn1: BatchNorm2d\n",
      "backbone.layer2.0.relu: ReLU\n",
      "backbone.layer2.0.conv2: Conv2d\n",
      "backbone.layer2.0.bn2: BatchNorm2d\n",
      "backbone.layer2.0.downsample.0: Conv2d\n",
      "backbone.layer2.0.downsample.1: BatchNorm2d\n",
      "backbone.layer2.1.conv1: Conv2d\n",
      "backbone.layer2.1.bn1: BatchNorm2d\n",
      "backbone.layer2.1.relu: ReLU\n",
      "backbone.layer2.1.conv2: Conv2d\n",
      "backbone.layer2.1.bn2: BatchNorm2d\n",
      "backbone.layer3.0.conv1: Conv2d\n",
      "backbone.layer3.0.bn1: BatchNorm2d\n",
      "backbone.layer3.0.relu: ReLU\n",
      "backbone.layer3.0.conv2: Conv2d\n",
      "backbone.layer3.0.bn2: BatchNorm2d\n",
      "backbone.layer3.0.downsample.0: Conv2d\n",
      "backbone.layer3.0.downsample.1: BatchNorm2d\n",
      "backbone.layer4.0.conv1: Conv2d\n",
      "backbone.layer4.0.bn1: BatchNorm2d\n",
      "backbone.layer4.0.relu: ReLU\n",
      "backbone.layer4.0.conv2: Conv2d\n",
      "backbone.layer4.0.bn2: BatchNorm2d\n",
      "backbone.layer4.0.downsample.0: Conv2d\n",
      "backbone.layer4.0.downsample.1: BatchNorm2d\n",
      "backbone.avgpool: AdaptiveAvgPool2d\n",
      "classifier: Linear\n",
      "regressor: Linear\n",
      "----------------------------------------\n",
      "\n"
     ]
    }
   ],
   "source": [
    "def print_model_layers(model, model_name):\n",
    "    print(f\"\\n{'-'*40}\")\n",
    "    print(f\"{model_name} Architecture:\")\n",
    "    print(f\"{'-'*40}\")\n",
    "    for name, layer in model.named_modules():\n",
    "        if not list(layer.children()):\n",
    "            print(f\"{name}: {layer.__class__.__name__}\")\n",
    "    print(f\"{'-'*40}\\n\")\n",
    "\n",
    "# First determine number of classes from your dataset\n",
    "labelled_dataset = LabelledDataset('../Dataset_Specific_labelled_full_only_for_2i.h5', ft_transform)\n",
    "num_classes = len(torch.unique(torch.tensor([label for _, label, _ in labelled_dataset])))\n",
    "\n",
    "# Load and print SSL pretrained backbone\n",
    "ssl_backbone = ResNet15()\n",
    "ssl_backbone.load_state_dict(torch.load('./best_ssl.pth'))\n",
    "print_model_layers(ssl_backbone, \"SSL Pretrained Backbone\")\n",
    "\n",
    "# Load and print fine-tuned model\n",
    "ft_model = FineTuneModel(ResNet15(), num_classes=num_classes)\n",
    "ft_model.load_state_dict(torch.load('./best_ft.pth')) \n",
    "print_model_layers(ft_model, \"Fine-Tuned Model\")\n",
    "\n",
    "# Load and print scratch model\n",
    "scratch_model = FineTuneModel(ResNet15(), num_classes=num_classes)\n",
    "scratch_model.load_state_dict(torch.load('./best_scratch.pth'))\n",
    "print_model_layers(scratch_model, \"Scratch Model\")"
   ]
  },
  {
   "cell_type": "code",
   "execution_count": 54,
   "id": "2c054f9a-ea36-4492-89ef-de3210b4156c",
   "metadata": {},
   "outputs": [],
   "source": [
    "# For loading the models:\n",
    "def load_pretrained():\n",
    "    backbone = ResNet15()\n",
    "    backbone.load_state_dict(torch.load('./best_ssl.pth'))\n",
    "    return backbone\n",
    "\n",
    "def load_finetuned(num_classes):\n",
    "    model = FineTuneModel(ResNet15(), num_classes)\n",
    "    model.load_state_dict(torch.load('./best_ft.pth'))\n",
    "    return model\n",
    "\n",
    "def load_scratch(num_classes):\n",
    "    model = FineTuneModel(ResNet15(), num_classes)\n",
    "    model.load_state_dict(torch.load('./best_scratch.pth'))\n",
    "    return model"
   ]
  }
 ],
 "metadata": {
  "kernelspec": {
   "display_name": "tensorflow-2.12.0",
   "language": "python",
   "name": "tensorflow-2.12.0"
  },
  "language_info": {
   "codemirror_mode": {
    "name": "ipython",
    "version": 3
   },
   "file_extension": ".py",
   "mimetype": "text/x-python",
   "name": "python",
   "nbconvert_exporter": "python",
   "pygments_lexer": "ipython3",
   "version": "3.9.19"
  }
 },
 "nbformat": 4,
 "nbformat_minor": 5
}
