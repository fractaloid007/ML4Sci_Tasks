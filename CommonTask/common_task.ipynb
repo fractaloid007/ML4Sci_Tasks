{
 "cells": [
  {
   "cell_type": "code",
   "execution_count": 1,
   "metadata": {
    "_cell_guid": "b1076dfc-b9ad-4769-8c92-a6c4dae69d19",
    "_uuid": "8f2839f25d086af736a60e9eeb907d3b93b6e0e5",
    "execution": {
     "iopub.execute_input": "2025-03-30T23:32:29.495104Z",
     "iopub.status.busy": "2025-03-30T23:32:29.494774Z",
     "iopub.status.idle": "2025-03-30T23:32:29.816387Z",
     "shell.execute_reply": "2025-03-30T23:32:29.815630Z",
     "shell.execute_reply.started": "2025-03-30T23:32:29.495066Z"
    },
    "trusted": true
   },
   "outputs": [
    {
     "name": "stdout",
     "output_type": "stream",
     "text": [
      "/kaggle/input/electronproton/SinglePhotonPt50_IMGCROPS_n249k_RHv1.hdf5\n",
      "/kaggle/input/electronproton/SingleElectronPt50_IMGCROPS_n249k_RHv1.hdf5\n"
     ]
    }
   ],
   "source": [
    "# This Python 3 environment comes with many helpful analytics libraries installed\n",
    "# It is defined by the kaggle/python Docker image: https://github.com/kaggle/docker-python\n",
    "# For example, here's several helpful packages to load\n",
    "\n",
    "import numpy as np # linear algebra\n",
    "import pandas as pd # data processing, CSV file I/O (e.g. pd.read_csv)\n",
    "\n",
    "# Input data files are available in the read-only \"../input/\" directory\n",
    "# For example, running this (by clicking run or pressing Shift+Enter) will list all files under the input directory\n",
    "\n",
    "import os\n",
    "for dirname, _, filenames in os.walk('/kaggle/input'):\n",
    "    for filename in filenames:\n",
    "        print(os.path.join(dirname, filename))\n",
    "\n",
    "# You can write up to 20GB to the current directory (/kaggle/working/) that gets preserved as output when you create a version using \"Save & Run All\" \n",
    "# You can also write temporary files to /kaggle/temp/, but they won't be saved outside of the current session"
   ]
  },
  {
   "cell_type": "code",
   "execution_count": 19,
   "metadata": {
    "execution": {
     "iopub.execute_input": "2025-03-30T23:42:18.835890Z",
     "iopub.status.busy": "2025-03-30T23:42:18.835582Z",
     "iopub.status.idle": "2025-03-30T23:42:18.842817Z",
     "shell.execute_reply": "2025-03-30T23:42:18.841820Z",
     "shell.execute_reply.started": "2025-03-30T23:42:18.835867Z"
    },
    "trusted": true
   },
   "outputs": [
    {
     "name": "stdout",
     "output_type": "stream",
     "text": [
      "Using device: cuda\n",
      "Multiprocessing using 2 GPUs\n"
     ]
    }
   ],
   "source": [
    "import os\n",
    "import h5py\n",
    "import gc\n",
    "import numpy as np\n",
    "import torch\n",
    "import torch.nn as nn\n",
    "import torch.optim as optim\n",
    "import torch.nn.functional as F\n",
    "from torch.utils.data import Dataset, DataLoader\n",
    "from torchvision import transforms\n",
    "from sklearn.model_selection import train_test_split\n",
    "from sklearn.metrics import roc_auc_score\n",
    "from tqdm import tqdm\n",
    "\n",
    "device = torch.device('cuda' if torch.cuda.is_available() else 'cpu')\n",
    "print(f\"Using device: {device}\")\n",
    "if torch.cuda.device_count() >= 2:\n",
    "    print(f\"Multiprocessing using {torch.cuda.device_count()} GPUs\")\n",
    "else:\n",
    "    print(\"using single GPU or CPU.\")"
   ]
  },
  {
   "cell_type": "code",
   "execution_count": 20,
   "metadata": {
    "execution": {
     "iopub.execute_input": "2025-03-30T23:42:25.282742Z",
     "iopub.status.busy": "2025-03-30T23:42:25.282403Z",
     "iopub.status.idle": "2025-03-30T23:42:42.055335Z",
     "shell.execute_reply": "2025-03-30T23:42:42.054513Z",
     "shell.execute_reply.started": "2025-03-30T23:42:25.282715Z"
    },
    "trusted": true
   },
   "outputs": [
    {
     "name": "stdout",
     "output_type": "stream",
     "text": [
      "Combined dataset shape: (498000, 32, 32, 2), Labels shape: (498000,)\n"
     ]
    }
   ],
   "source": [
    "def load_hdf5(file_path, max_samples=None):\n",
    "    with h5py.File(file_path, 'r') as f:\n",
    "        total_samples = f['X'].shape[0] if max_samples is None else min(max_samples, f['X'].shape[0])\n",
    "        X = f['X'][:total_samples].astype(np.float32)  # Load entire dataset into RAM\n",
    "        y = f['y'][:total_samples].astype(np.int8)\n",
    "    return X, y\n",
    "\n",
    "file_path_electron = '/kaggle/input/electronproton/SingleElectronPt50_IMGCROPS_n249k_RHv1.hdf5'\n",
    "file_path_photon   = '/kaggle/input/electronproton/SinglePhotonPt50_IMGCROPS_n249k_RHv1.hdf5'\n",
    "\n",
    "# Load the datasets\n",
    "X_electron, y_electron = load_hdf5(file_path_electron)\n",
    "X_photon, y_photon = load_hdf5(file_path_photon)\n",
    "\n",
    "# Combine the two datasets\n",
    "X = np.concatenate([X_electron, X_photon], axis=0)\n",
    "y = np.concatenate([y_electron, y_photon], axis=0)\n",
    "\n",
    "# Cleanup intermediate variables\n",
    "del X_electron, y_electron, X_photon, y_photon\n",
    "gc.collect()\n",
    "\n",
    "print(f\"Combined dataset shape: {X.shape}, Labels shape: {y.shape}\")"
   ]
  },
  {
   "cell_type": "code",
   "execution_count": 21,
   "metadata": {
    "execution": {
     "iopub.execute_input": "2025-03-30T23:42:46.785041Z",
     "iopub.status.busy": "2025-03-30T23:42:46.784730Z",
     "iopub.status.idle": "2025-03-30T23:43:09.411754Z",
     "shell.execute_reply": "2025-03-30T23:43:09.410901Z",
     "shell.execute_reply.started": "2025-03-30T23:42:46.785015Z"
    },
    "trusted": true
   },
   "outputs": [
    {
     "name": "stdout",
     "output_type": "stream",
     "text": [
      "Train shape: (398400, 32, 32, 2), Test shape: (99600, 32, 32, 2)\n",
      "Normalization mean: [0.0011494957143440843, -0.00023345656518358737]\n",
      "Normalization std: [0.023609708994627, 0.06675195693969727]\n"
     ]
    }
   ],
   "source": [
    "# Split data into training and testing sets\n",
    "X_train, X_test, y_train, y_test = train_test_split(\n",
    "    X, y, test_size=0.2, stratify=y, random_state=42\n",
    ")\n",
    "\n",
    "# Compute normalization parameters from training data\n",
    "mean = X_train.mean(axis=(0, 1, 2))\n",
    "std = X_train.std(axis=(0, 1, 2))\n",
    "mean = [float(m) for m in mean]\n",
    "std = [float(s) for s in std]\n",
    "\n",
    "print(f\"Train shape: {X_train.shape}, Test shape: {X_test.shape}\")\n",
    "print(f\"Normalization mean: {mean}\")\n",
    "print(f\"Normalization std: {std}\")"
   ]
  },
  {
   "cell_type": "code",
   "execution_count": 22,
   "metadata": {
    "execution": {
     "iopub.execute_input": "2025-03-30T23:43:09.413065Z",
     "iopub.status.busy": "2025-03-30T23:43:09.412761Z",
     "iopub.status.idle": "2025-03-30T23:43:09.422988Z",
     "shell.execute_reply": "2025-03-30T23:43:09.422027Z",
     "shell.execute_reply.started": "2025-03-30T23:43:09.413029Z"
    },
    "trusted": true
   },
   "outputs": [],
   "source": [
    "# Define custom dataset class\n",
    "class ParticleDataset(Dataset):\n",
    "    def __init__(self, X, y, transform=None):\n",
    "        self.X = X\n",
    "        self.y = y\n",
    "        self.transform = transform\n",
    "\n",
    "    def __len__(self):\n",
    "        return len(self.X)\n",
    "\n",
    "    def __getitem__(self, idx):\n",
    "        image = self.X[idx]\n",
    "        label = self.y[idx]\n",
    "        if self.transform:\n",
    "            image = self.transform(image)\n",
    "        return image, torch.tensor(label, dtype=torch.long)\n",
    "\n",
    "# Define transforms for training and testing\n",
    "train_transform = transforms.Compose([\n",
    "    transforms.ToTensor(),\n",
    "    transforms.RandomHorizontalFlip(),\n",
    "    transforms.RandomVerticalFlip(),\n",
    "    transforms.Normalize(mean, std)\n",
    "])\n",
    "test_transform = transforms.Compose([\n",
    "    transforms.ToTensor(),\n",
    "    transforms.Normalize(mean, std)\n",
    "])\n",
    "\n",
    "# Create dataset objects\n",
    "batch_size = 256\n",
    "train_dataset = ParticleDataset(X_train, y_train, transform=train_transform)\n",
    "test_dataset = ParticleDataset(X_test, y_test, transform=test_transform)\n",
    "\n",
    "# Create DataLoaders\n",
    "train_loader = DataLoader(\n",
    "    train_dataset, batch_size=batch_size, shuffle=True,\n",
    "    num_workers=2, pin_memory=True, persistent_workers=True\n",
    ")\n",
    "test_loader = DataLoader(\n",
    "    test_dataset, batch_size=batch_size, shuffle=False,\n",
    "    num_workers=2, pin_memory=True\n",
    ")"
   ]
  },
  {
   "cell_type": "code",
   "execution_count": 23,
   "metadata": {
    "execution": {
     "iopub.execute_input": "2025-03-30T23:43:16.555788Z",
     "iopub.status.busy": "2025-03-30T23:43:16.555476Z",
     "iopub.status.idle": "2025-03-30T23:43:16.597885Z",
     "shell.execute_reply": "2025-03-30T23:43:16.597170Z",
     "shell.execute_reply.started": "2025-03-30T23:43:16.555763Z"
    },
    "trusted": true
   },
   "outputs": [
    {
     "name": "stdout",
     "output_type": "stream",
     "text": [
      "DataParallel(\n",
      "  (module): ResNet15(\n",
      "    (conv1): Conv2d(2, 64, kernel_size=(3, 3), stride=(1, 1), padding=(1, 1), bias=False)\n",
      "    (bn1): BatchNorm2d(64, eps=1e-05, momentum=0.1, affine=True, track_running_stats=True)\n",
      "    (layer1): Sequential(\n",
      "      (0): BasicBlock(\n",
      "        (conv1): Conv2d(64, 64, kernel_size=(3, 3), stride=(1, 1), padding=(1, 1), bias=False)\n",
      "        (bn1): BatchNorm2d(64, eps=1e-05, momentum=0.1, affine=True, track_running_stats=True)\n",
      "        (conv2): Conv2d(64, 64, kernel_size=(3, 3), stride=(1, 1), padding=(1, 1), bias=False)\n",
      "        (bn2): BatchNorm2d(64, eps=1e-05, momentum=0.1, affine=True, track_running_stats=True)\n",
      "      )\n",
      "      (1): BasicBlock(\n",
      "        (conv1): Conv2d(64, 64, kernel_size=(3, 3), stride=(1, 1), padding=(1, 1), bias=False)\n",
      "        (bn1): BatchNorm2d(64, eps=1e-05, momentum=0.1, affine=True, track_running_stats=True)\n",
      "        (conv2): Conv2d(64, 64, kernel_size=(3, 3), stride=(1, 1), padding=(1, 1), bias=False)\n",
      "        (bn2): BatchNorm2d(64, eps=1e-05, momentum=0.1, affine=True, track_running_stats=True)\n",
      "      )\n",
      "    )\n",
      "    (layer2): Sequential(\n",
      "      (0): BasicBlock(\n",
      "        (conv1): Conv2d(64, 128, kernel_size=(3, 3), stride=(2, 2), padding=(1, 1), bias=False)\n",
      "        (bn1): BatchNorm2d(128, eps=1e-05, momentum=0.1, affine=True, track_running_stats=True)\n",
      "        (conv2): Conv2d(128, 128, kernel_size=(3, 3), stride=(1, 1), padding=(1, 1), bias=False)\n",
      "        (bn2): BatchNorm2d(128, eps=1e-05, momentum=0.1, affine=True, track_running_stats=True)\n",
      "        (downsample): Sequential(\n",
      "          (0): Conv2d(64, 128, kernel_size=(1, 1), stride=(2, 2), bias=False)\n",
      "          (1): BatchNorm2d(128, eps=1e-05, momentum=0.1, affine=True, track_running_stats=True)\n",
      "        )\n",
      "      )\n",
      "      (1): BasicBlock(\n",
      "        (conv1): Conv2d(128, 128, kernel_size=(3, 3), stride=(1, 1), padding=(1, 1), bias=False)\n",
      "        (bn1): BatchNorm2d(128, eps=1e-05, momentum=0.1, affine=True, track_running_stats=True)\n",
      "        (conv2): Conv2d(128, 128, kernel_size=(3, 3), stride=(1, 1), padding=(1, 1), bias=False)\n",
      "        (bn2): BatchNorm2d(128, eps=1e-05, momentum=0.1, affine=True, track_running_stats=True)\n",
      "      )\n",
      "    )\n",
      "    (layer3): Sequential(\n",
      "      (0): BasicBlock(\n",
      "        (conv1): Conv2d(128, 256, kernel_size=(3, 3), stride=(2, 2), padding=(1, 1), bias=False)\n",
      "        (bn1): BatchNorm2d(256, eps=1e-05, momentum=0.1, affine=True, track_running_stats=True)\n",
      "        (conv2): Conv2d(256, 256, kernel_size=(3, 3), stride=(1, 1), padding=(1, 1), bias=False)\n",
      "        (bn2): BatchNorm2d(256, eps=1e-05, momentum=0.1, affine=True, track_running_stats=True)\n",
      "        (downsample): Sequential(\n",
      "          (0): Conv2d(128, 256, kernel_size=(1, 1), stride=(2, 2), bias=False)\n",
      "          (1): BatchNorm2d(256, eps=1e-05, momentum=0.1, affine=True, track_running_stats=True)\n",
      "        )\n",
      "      )\n",
      "      (1): BasicBlock(\n",
      "        (conv1): Conv2d(256, 256, kernel_size=(3, 3), stride=(1, 1), padding=(1, 1), bias=False)\n",
      "        (bn1): BatchNorm2d(256, eps=1e-05, momentum=0.1, affine=True, track_running_stats=True)\n",
      "        (conv2): Conv2d(256, 256, kernel_size=(3, 3), stride=(1, 1), padding=(1, 1), bias=False)\n",
      "        (bn2): BatchNorm2d(256, eps=1e-05, momentum=0.1, affine=True, track_running_stats=True)\n",
      "      )\n",
      "    )\n",
      "    (avgpool): AdaptiveAvgPool2d(output_size=(1, 1))\n",
      "    (fc): Linear(in_features=256, out_features=2, bias=True)\n",
      "  )\n",
      ")\n"
     ]
    }
   ],
   "source": [
    "# Define the basic building block\n",
    "class BasicBlock(nn.Module):\n",
    "    expansion = 1\n",
    "    def __init__(self, in_channels, out_channels, stride=1, downsample=None):\n",
    "        super().__init__()\n",
    "        self.conv1 = nn.Conv2d(in_channels, out_channels, 3, stride, 1, bias=False)\n",
    "        self.bn1 = nn.BatchNorm2d(out_channels)\n",
    "        self.conv2 = nn.Conv2d(out_channels, out_channels, 3, 1, 1, bias=False)\n",
    "        self.bn2 = nn.BatchNorm2d(out_channels)\n",
    "        self.downsample = downsample\n",
    "\n",
    "    def forward(self, x):\n",
    "        identity = x\n",
    "        out = F.relu(self.bn1(self.conv1(x)))\n",
    "        out = self.bn2(self.conv2(out))\n",
    "        if self.downsample:\n",
    "            identity = self.downsample(x)\n",
    "        return F.relu(out + identity)\n",
    "\n",
    "# Define the ResNet15 model\n",
    "class ResNet15(nn.Module):\n",
    "    def __init__(self):\n",
    "        super().__init__()\n",
    "        self.in_channels = 64\n",
    "        self.conv1 = nn.Conv2d(2, 64, 3, 1, 1, bias=False)\n",
    "        self.bn1 = nn.BatchNorm2d(64)\n",
    "        self.layer1 = self._make_layer(64, 2)\n",
    "        self.layer2 = self._make_layer(128, 2, stride=2)\n",
    "        self.layer3 = self._make_layer(256, 2, stride=2)\n",
    "        self.avgpool = nn.AdaptiveAvgPool2d((1, 1))\n",
    "        self.fc = nn.Linear(256, 2)\n",
    "\n",
    "    def _make_layer(self, channels, blocks, stride=1):\n",
    "        downsample = None\n",
    "        if stride != 1 or self.in_channels != channels:\n",
    "            downsample = nn.Sequential(\n",
    "                nn.Conv2d(self.in_channels, channels, 1, stride, bias=False),\n",
    "                nn.BatchNorm2d(channels)\n",
    "            )\n",
    "        layers = [BasicBlock(self.in_channels, channels, stride, downsample)]\n",
    "        self.in_channels = channels\n",
    "        for _ in range(1, blocks):\n",
    "            layers.append(BasicBlock(channels, channels))\n",
    "        return nn.Sequential(*layers)\n",
    "\n",
    "    def forward(self, x):\n",
    "        x = F.relu(self.bn1(self.conv1(x)))\n",
    "        x = self.layer1(x)\n",
    "        x = self.layer2(x)\n",
    "        x = self.layer3(x)\n",
    "        x = self.avgpool(x)\n",
    "        x = torch.flatten(x, 1)\n",
    "        return self.fc(x)\n",
    "\n",
    "# Instantiate and wrap the model for multi-GPU if available\n",
    "model = ResNet15()\n",
    "if torch.cuda.device_count() >= 2:\n",
    "    model = nn.DataParallel(model, device_ids=[0, 1])\n",
    "model = model.to(device)\n",
    "print(model)"
   ]
  },
  {
   "cell_type": "code",
   "execution_count": 24,
   "metadata": {
    "execution": {
     "iopub.execute_input": "2025-03-30T23:43:21.536262Z",
     "iopub.status.busy": "2025-03-30T23:43:21.535961Z",
     "iopub.status.idle": "2025-03-30T23:43:21.542244Z",
     "shell.execute_reply": "2025-03-30T23:43:21.541327Z",
     "shell.execute_reply.started": "2025-03-30T23:43:21.536239Z"
    },
    "trusted": true
   },
   "outputs": [],
   "source": [
    "# Loss, optimizer, scheduler and scaler setup\n",
    "criterion = nn.CrossEntropyLoss()\n",
    "optimizer = optim.AdamW(model.parameters(), lr=0.001, weight_decay=1e-4)\n",
    "scheduler = optim.lr_scheduler.CosineAnnealingLR(optimizer, T_max=50)\n",
    "scaler = torch.amp.GradScaler(\"cuda\")\n",
    "\n",
    "# Initialize history for metrics tracking\n",
    "history = {'train_loss': [], 'train_auc': [], 'test_acc': [], 'test_auc': []}\n",
    "best_auc = 0.0"
   ]
  },
  {
   "cell_type": "code",
   "execution_count": 25,
   "metadata": {
    "execution": {
     "iopub.execute_input": "2025-03-30T23:43:31.407308Z",
     "iopub.status.busy": "2025-03-30T23:43:31.406864Z",
     "iopub.status.idle": "2025-03-31T01:13:51.158196Z",
     "shell.execute_reply": "2025-03-31T01:13:51.157321Z",
     "shell.execute_reply.started": "2025-03-30T23:43:31.407261Z"
    },
    "trusted": true
   },
   "outputs": [
    {
     "name": "stderr",
     "output_type": "stream",
     "text": [
      "Epoch 1/50: 100%|██████████| 1557/1557 [01:35<00:00, 16.32it/s]\n"
     ]
    },
    {
     "name": "stdout",
     "output_type": "stream",
     "text": [
      "\n",
      "Epoch 01\n",
      "Train Loss: 0.6120 | Train AUC: 0.7213\n",
      "Test Acc: 0.4123 | Test AUC: 0.7613\n",
      "Peak GPU Memory: 0.36 GB\n"
     ]
    },
    {
     "name": "stderr",
     "output_type": "stream",
     "text": [
      "Epoch 2/50: 100%|██████████| 1557/1557 [01:34<00:00, 16.44it/s]\n"
     ]
    },
    {
     "name": "stdout",
     "output_type": "stream",
     "text": [
      "\n",
      "Epoch 02\n",
      "Train Loss: 0.5727 | Train AUC: 0.7707\n",
      "Test Acc: 0.6173 | Test AUC: 0.7809\n",
      "Peak GPU Memory: 0.36 GB\n"
     ]
    },
    {
     "name": "stderr",
     "output_type": "stream",
     "text": [
      "Epoch 3/50: 100%|██████████| 1557/1557 [01:34<00:00, 16.42it/s]\n"
     ]
    },
    {
     "name": "stdout",
     "output_type": "stream",
     "text": [
      "\n",
      "Epoch 03\n",
      "Train Loss: 0.5642 | Train AUC: 0.7797\n",
      "Test Acc: 0.5684 | Test AUC: 0.7853\n",
      "Peak GPU Memory: 0.36 GB\n"
     ]
    },
    {
     "name": "stderr",
     "output_type": "stream",
     "text": [
      "Epoch 4/50: 100%|██████████| 1557/1557 [01:34<00:00, 16.49it/s]\n"
     ]
    },
    {
     "name": "stdout",
     "output_type": "stream",
     "text": [
      "\n",
      "Epoch 04\n",
      "Train Loss: 0.5595 | Train AUC: 0.7842\n",
      "Test Acc: 0.4887 | Test AUC: 0.7887\n",
      "Peak GPU Memory: 0.36 GB\n"
     ]
    },
    {
     "name": "stderr",
     "output_type": "stream",
     "text": [
      "Epoch 5/50: 100%|██████████| 1557/1557 [01:34<00:00, 16.53it/s]\n"
     ]
    },
    {
     "name": "stdout",
     "output_type": "stream",
     "text": [
      "\n",
      "Epoch 05\n",
      "Train Loss: 0.5571 | Train AUC: 0.7866\n",
      "Test Acc: 0.5968 | Test AUC: 0.7714\n",
      "Peak GPU Memory: 0.36 GB\n"
     ]
    },
    {
     "name": "stderr",
     "output_type": "stream",
     "text": [
      "Epoch 6/50: 100%|██████████| 1557/1557 [01:34<00:00, 16.54it/s]\n"
     ]
    },
    {
     "name": "stdout",
     "output_type": "stream",
     "text": [
      "\n",
      "Epoch 06\n",
      "Train Loss: 0.5540 | Train AUC: 0.7897\n",
      "Test Acc: 0.5430 | Test AUC: 0.7988\n",
      "Peak GPU Memory: 0.36 GB\n"
     ]
    },
    {
     "name": "stderr",
     "output_type": "stream",
     "text": [
      "Epoch 7/50: 100%|██████████| 1557/1557 [01:34<00:00, 16.40it/s]\n"
     ]
    },
    {
     "name": "stdout",
     "output_type": "stream",
     "text": [
      "\n",
      "Epoch 07\n",
      "Train Loss: 0.5520 | Train AUC: 0.7916\n",
      "Test Acc: 0.5741 | Test AUC: 0.7910\n",
      "Peak GPU Memory: 0.36 GB\n"
     ]
    },
    {
     "name": "stderr",
     "output_type": "stream",
     "text": [
      "Epoch 8/50: 100%|██████████| 1557/1557 [01:33<00:00, 16.59it/s]\n"
     ]
    },
    {
     "name": "stdout",
     "output_type": "stream",
     "text": [
      "\n",
      "Epoch 08\n",
      "Train Loss: 0.5498 | Train AUC: 0.7937\n",
      "Test Acc: 0.4884 | Test AUC: 0.7966\n",
      "Peak GPU Memory: 0.36 GB\n"
     ]
    },
    {
     "name": "stderr",
     "output_type": "stream",
     "text": [
      "Epoch 9/50: 100%|██████████| 1557/1557 [01:33<00:00, 16.56it/s]\n"
     ]
    },
    {
     "name": "stdout",
     "output_type": "stream",
     "text": [
      "\n",
      "Epoch 09\n",
      "Train Loss: 0.5481 | Train AUC: 0.7952\n",
      "Test Acc: 0.5321 | Test AUC: 0.8003\n",
      "Peak GPU Memory: 0.36 GB\n"
     ]
    },
    {
     "name": "stderr",
     "output_type": "stream",
     "text": [
      "Epoch 10/50: 100%|██████████| 1557/1557 [01:34<00:00, 16.52it/s]\n"
     ]
    },
    {
     "name": "stdout",
     "output_type": "stream",
     "text": [
      "\n",
      "Epoch 10\n",
      "Train Loss: 0.5465 | Train AUC: 0.7966\n",
      "Test Acc: 0.5255 | Test AUC: 0.8017\n",
      "Peak GPU Memory: 0.36 GB\n"
     ]
    },
    {
     "name": "stderr",
     "output_type": "stream",
     "text": [
      "Epoch 11/50: 100%|██████████| 1557/1557 [01:34<00:00, 16.44it/s]\n"
     ]
    },
    {
     "name": "stdout",
     "output_type": "stream",
     "text": [
      "\n",
      "Epoch 11\n",
      "Train Loss: 0.5450 | Train AUC: 0.7982\n",
      "Test Acc: 0.5252 | Test AUC: 0.7927\n",
      "Peak GPU Memory: 0.36 GB\n"
     ]
    },
    {
     "name": "stderr",
     "output_type": "stream",
     "text": [
      "Epoch 12/50: 100%|██████████| 1557/1557 [01:35<00:00, 16.35it/s]\n"
     ]
    },
    {
     "name": "stdout",
     "output_type": "stream",
     "text": [
      "\n",
      "Epoch 12\n",
      "Train Loss: 0.5444 | Train AUC: 0.7987\n",
      "Test Acc: 0.5701 | Test AUC: 0.8031\n",
      "Peak GPU Memory: 0.36 GB\n"
     ]
    },
    {
     "name": "stderr",
     "output_type": "stream",
     "text": [
      "Epoch 13/50: 100%|██████████| 1557/1557 [01:34<00:00, 16.47it/s]\n"
     ]
    },
    {
     "name": "stdout",
     "output_type": "stream",
     "text": [
      "\n",
      "Epoch 13\n",
      "Train Loss: 0.5425 | Train AUC: 0.8004\n",
      "Test Acc: 0.5165 | Test AUC: 0.8032\n",
      "Peak GPU Memory: 0.36 GB\n"
     ]
    },
    {
     "name": "stderr",
     "output_type": "stream",
     "text": [
      "Epoch 14/50: 100%|██████████| 1557/1557 [01:35<00:00, 16.36it/s]\n"
     ]
    },
    {
     "name": "stdout",
     "output_type": "stream",
     "text": [
      "\n",
      "Epoch 14\n",
      "Train Loss: 0.5415 | Train AUC: 0.8013\n",
      "Test Acc: 0.5306 | Test AUC: 0.7997\n",
      "Peak GPU Memory: 0.36 GB\n"
     ]
    },
    {
     "name": "stderr",
     "output_type": "stream",
     "text": [
      "Epoch 15/50: 100%|██████████| 1557/1557 [01:35<00:00, 16.39it/s]\n"
     ]
    },
    {
     "name": "stdout",
     "output_type": "stream",
     "text": [
      "\n",
      "Epoch 15\n",
      "Train Loss: 0.5403 | Train AUC: 0.8023\n",
      "Test Acc: 0.5377 | Test AUC: 0.8030\n",
      "Peak GPU Memory: 0.36 GB\n"
     ]
    },
    {
     "name": "stderr",
     "output_type": "stream",
     "text": [
      "Epoch 16/50: 100%|██████████| 1557/1557 [01:34<00:00, 16.55it/s]\n"
     ]
    },
    {
     "name": "stdout",
     "output_type": "stream",
     "text": [
      "\n",
      "Epoch 16\n",
      "Train Loss: 0.5395 | Train AUC: 0.8032\n",
      "Test Acc: 0.5492 | Test AUC: 0.8021\n",
      "Peak GPU Memory: 0.36 GB\n"
     ]
    },
    {
     "name": "stderr",
     "output_type": "stream",
     "text": [
      "Epoch 17/50: 100%|██████████| 1557/1557 [01:36<00:00, 16.17it/s]\n"
     ]
    },
    {
     "name": "stdout",
     "output_type": "stream",
     "text": [
      "\n",
      "Epoch 17\n",
      "Train Loss: 0.5385 | Train AUC: 0.8040\n",
      "Test Acc: 0.5187 | Test AUC: 0.8055\n",
      "Peak GPU Memory: 0.36 GB\n"
     ]
    },
    {
     "name": "stderr",
     "output_type": "stream",
     "text": [
      "Epoch 18/50: 100%|██████████| 1557/1557 [01:34<00:00, 16.41it/s]\n"
     ]
    },
    {
     "name": "stdout",
     "output_type": "stream",
     "text": [
      "\n",
      "Epoch 18\n",
      "Train Loss: 0.5374 | Train AUC: 0.8050\n",
      "Test Acc: 0.4776 | Test AUC: 0.8027\n",
      "Peak GPU Memory: 0.36 GB\n"
     ]
    },
    {
     "name": "stderr",
     "output_type": "stream",
     "text": [
      "Epoch 19/50: 100%|██████████| 1557/1557 [01:34<00:00, 16.42it/s]\n"
     ]
    },
    {
     "name": "stdout",
     "output_type": "stream",
     "text": [
      "\n",
      "Epoch 19\n",
      "Train Loss: 0.5363 | Train AUC: 0.8060\n",
      "Test Acc: 0.5031 | Test AUC: 0.8060\n",
      "Peak GPU Memory: 0.36 GB\n"
     ]
    },
    {
     "name": "stderr",
     "output_type": "stream",
     "text": [
      "Epoch 20/50: 100%|██████████| 1557/1557 [01:34<00:00, 16.41it/s]\n"
     ]
    },
    {
     "name": "stdout",
     "output_type": "stream",
     "text": [
      "\n",
      "Epoch 20\n",
      "Train Loss: 0.5356 | Train AUC: 0.8065\n",
      "Test Acc: 0.4613 | Test AUC: 0.8015\n",
      "Peak GPU Memory: 0.36 GB\n"
     ]
    },
    {
     "name": "stderr",
     "output_type": "stream",
     "text": [
      "Epoch 21/50: 100%|██████████| 1557/1557 [01:34<00:00, 16.44it/s]\n"
     ]
    },
    {
     "name": "stdout",
     "output_type": "stream",
     "text": [
      "\n",
      "Epoch 21\n",
      "Train Loss: 0.5344 | Train AUC: 0.8075\n",
      "Test Acc: 0.5103 | Test AUC: 0.8068\n",
      "Peak GPU Memory: 0.36 GB\n"
     ]
    },
    {
     "name": "stderr",
     "output_type": "stream",
     "text": [
      "Epoch 22/50: 100%|██████████| 1557/1557 [01:34<00:00, 16.43it/s]\n"
     ]
    },
    {
     "name": "stdout",
     "output_type": "stream",
     "text": [
      "\n",
      "Epoch 22\n",
      "Train Loss: 0.5334 | Train AUC: 0.8085\n",
      "Test Acc: 0.5471 | Test AUC: 0.8037\n",
      "Peak GPU Memory: 0.36 GB\n"
     ]
    },
    {
     "name": "stderr",
     "output_type": "stream",
     "text": [
      "Epoch 23/50: 100%|██████████| 1557/1557 [01:34<00:00, 16.42it/s]\n"
     ]
    },
    {
     "name": "stdout",
     "output_type": "stream",
     "text": [
      "\n",
      "Epoch 23\n",
      "Train Loss: 0.5322 | Train AUC: 0.8095\n",
      "Test Acc: 0.4769 | Test AUC: 0.8064\n",
      "Peak GPU Memory: 0.36 GB\n"
     ]
    },
    {
     "name": "stderr",
     "output_type": "stream",
     "text": [
      "Epoch 24/50: 100%|██████████| 1557/1557 [01:37<00:00, 15.97it/s]\n"
     ]
    },
    {
     "name": "stdout",
     "output_type": "stream",
     "text": [
      "\n",
      "Epoch 24\n",
      "Train Loss: 0.5316 | Train AUC: 0.8100\n",
      "Test Acc: 0.5269 | Test AUC: 0.8073\n",
      "Peak GPU Memory: 0.36 GB\n"
     ]
    },
    {
     "name": "stderr",
     "output_type": "stream",
     "text": [
      "Epoch 25/50: 100%|██████████| 1557/1557 [01:35<00:00, 16.30it/s]\n"
     ]
    },
    {
     "name": "stdout",
     "output_type": "stream",
     "text": [
      "\n",
      "Epoch 25\n",
      "Train Loss: 0.5304 | Train AUC: 0.8110\n",
      "Test Acc: 0.5298 | Test AUC: 0.8094\n",
      "Peak GPU Memory: 0.36 GB\n"
     ]
    },
    {
     "name": "stderr",
     "output_type": "stream",
     "text": [
      "Epoch 26/50: 100%|██████████| 1557/1557 [01:34<00:00, 16.46it/s]\n"
     ]
    },
    {
     "name": "stdout",
     "output_type": "stream",
     "text": [
      "\n",
      "Epoch 26\n",
      "Train Loss: 0.5295 | Train AUC: 0.8119\n",
      "Test Acc: 0.5391 | Test AUC: 0.8097\n",
      "Peak GPU Memory: 0.36 GB\n"
     ]
    },
    {
     "name": "stderr",
     "output_type": "stream",
     "text": [
      "Epoch 27/50: 100%|██████████| 1557/1557 [01:35<00:00, 16.28it/s]\n"
     ]
    },
    {
     "name": "stdout",
     "output_type": "stream",
     "text": [
      "\n",
      "Epoch 27\n",
      "Train Loss: 0.5285 | Train AUC: 0.8126\n",
      "Test Acc: 0.4947 | Test AUC: 0.8069\n",
      "Peak GPU Memory: 0.36 GB\n"
     ]
    },
    {
     "name": "stderr",
     "output_type": "stream",
     "text": [
      "Epoch 28/50: 100%|██████████| 1557/1557 [01:35<00:00, 16.28it/s]\n"
     ]
    },
    {
     "name": "stdout",
     "output_type": "stream",
     "text": [
      "\n",
      "Epoch 28\n",
      "Train Loss: 0.5274 | Train AUC: 0.8136\n",
      "Test Acc: 0.5362 | Test AUC: 0.8106\n",
      "Peak GPU Memory: 0.36 GB\n"
     ]
    },
    {
     "name": "stderr",
     "output_type": "stream",
     "text": [
      "Epoch 29/50: 100%|██████████| 1557/1557 [01:35<00:00, 16.29it/s]\n"
     ]
    },
    {
     "name": "stdout",
     "output_type": "stream",
     "text": [
      "\n",
      "Epoch 29\n",
      "Train Loss: 0.5266 | Train AUC: 0.8143\n",
      "Test Acc: 0.5128 | Test AUC: 0.8121\n",
      "Peak GPU Memory: 0.36 GB\n"
     ]
    },
    {
     "name": "stderr",
     "output_type": "stream",
     "text": [
      "Epoch 30/50: 100%|██████████| 1557/1557 [01:35<00:00, 16.28it/s]\n"
     ]
    },
    {
     "name": "stdout",
     "output_type": "stream",
     "text": [
      "\n",
      "Epoch 30\n",
      "Train Loss: 0.5257 | Train AUC: 0.8150\n",
      "Test Acc: 0.5157 | Test AUC: 0.8112\n",
      "Peak GPU Memory: 0.36 GB\n"
     ]
    },
    {
     "name": "stderr",
     "output_type": "stream",
     "text": [
      "Epoch 31/50: 100%|██████████| 1557/1557 [01:34<00:00, 16.39it/s]\n"
     ]
    },
    {
     "name": "stdout",
     "output_type": "stream",
     "text": [
      "\n",
      "Epoch 31\n",
      "Train Loss: 0.5245 | Train AUC: 0.8159\n",
      "Test Acc: 0.5006 | Test AUC: 0.8119\n",
      "Peak GPU Memory: 0.36 GB\n"
     ]
    },
    {
     "name": "stderr",
     "output_type": "stream",
     "text": [
      "Epoch 32/50: 100%|██████████| 1557/1557 [01:35<00:00, 16.39it/s]\n"
     ]
    },
    {
     "name": "stdout",
     "output_type": "stream",
     "text": [
      "\n",
      "Epoch 32\n",
      "Train Loss: 0.5237 | Train AUC: 0.8166\n",
      "Test Acc: 0.5092 | Test AUC: 0.8113\n",
      "Peak GPU Memory: 0.36 GB\n"
     ]
    },
    {
     "name": "stderr",
     "output_type": "stream",
     "text": [
      "Epoch 33/50: 100%|██████████| 1557/1557 [01:33<00:00, 16.66it/s]\n"
     ]
    },
    {
     "name": "stdout",
     "output_type": "stream",
     "text": [
      "\n",
      "Epoch 33\n",
      "Train Loss: 0.5229 | Train AUC: 0.8174\n",
      "Test Acc: 0.5203 | Test AUC: 0.8128\n",
      "Peak GPU Memory: 0.36 GB\n"
     ]
    },
    {
     "name": "stderr",
     "output_type": "stream",
     "text": [
      "Epoch 34/50: 100%|██████████| 1557/1557 [01:33<00:00, 16.71it/s]\n"
     ]
    },
    {
     "name": "stdout",
     "output_type": "stream",
     "text": [
      "\n",
      "Epoch 34\n",
      "Train Loss: 0.5219 | Train AUC: 0.8182\n",
      "Test Acc: 0.5059 | Test AUC: 0.8129\n",
      "Peak GPU Memory: 0.36 GB\n"
     ]
    },
    {
     "name": "stderr",
     "output_type": "stream",
     "text": [
      "Epoch 35/50: 100%|██████████| 1557/1557 [01:33<00:00, 16.72it/s]\n"
     ]
    },
    {
     "name": "stdout",
     "output_type": "stream",
     "text": [
      "\n",
      "Epoch 35\n",
      "Train Loss: 0.5208 | Train AUC: 0.8191\n",
      "Test Acc: 0.5006 | Test AUC: 0.8131\n",
      "Peak GPU Memory: 0.36 GB\n"
     ]
    },
    {
     "name": "stderr",
     "output_type": "stream",
     "text": [
      "Epoch 36/50: 100%|██████████| 1557/1557 [01:33<00:00, 16.67it/s]\n"
     ]
    },
    {
     "name": "stdout",
     "output_type": "stream",
     "text": [
      "\n",
      "Epoch 36\n",
      "Train Loss: 0.5199 | Train AUC: 0.8198\n",
      "Test Acc: 0.5129 | Test AUC: 0.8135\n",
      "Peak GPU Memory: 0.36 GB\n"
     ]
    },
    {
     "name": "stderr",
     "output_type": "stream",
     "text": [
      "Epoch 37/50: 100%|██████████| 1557/1557 [01:33<00:00, 16.69it/s]\n"
     ]
    },
    {
     "name": "stdout",
     "output_type": "stream",
     "text": [
      "\n",
      "Epoch 37\n",
      "Train Loss: 0.5191 | Train AUC: 0.8205\n",
      "Test Acc: 0.5076 | Test AUC: 0.8135\n",
      "Peak GPU Memory: 0.36 GB\n"
     ]
    },
    {
     "name": "stderr",
     "output_type": "stream",
     "text": [
      "Epoch 38/50: 100%|██████████| 1557/1557 [01:32<00:00, 16.77it/s]\n"
     ]
    },
    {
     "name": "stdout",
     "output_type": "stream",
     "text": [
      "\n",
      "Epoch 38\n",
      "Train Loss: 0.5181 | Train AUC: 0.8214\n",
      "Test Acc: 0.5189 | Test AUC: 0.8127\n",
      "Peak GPU Memory: 0.36 GB\n"
     ]
    },
    {
     "name": "stderr",
     "output_type": "stream",
     "text": [
      "Epoch 39/50: 100%|██████████| 1557/1557 [01:32<00:00, 16.75it/s]\n"
     ]
    },
    {
     "name": "stdout",
     "output_type": "stream",
     "text": [
      "\n",
      "Epoch 39\n",
      "Train Loss: 0.5179 | Train AUC: 0.8215\n",
      "Test Acc: 0.5228 | Test AUC: 0.8140\n",
      "Peak GPU Memory: 0.36 GB\n"
     ]
    },
    {
     "name": "stderr",
     "output_type": "stream",
     "text": [
      "Epoch 40/50: 100%|██████████| 1557/1557 [01:33<00:00, 16.58it/s]\n"
     ]
    },
    {
     "name": "stdout",
     "output_type": "stream",
     "text": [
      "\n",
      "Epoch 40\n",
      "Train Loss: 0.5169 | Train AUC: 0.8223\n",
      "Test Acc: 0.5106 | Test AUC: 0.8139\n",
      "Peak GPU Memory: 0.36 GB\n"
     ]
    },
    {
     "name": "stderr",
     "output_type": "stream",
     "text": [
      "Epoch 41/50: 100%|██████████| 1557/1557 [01:35<00:00, 16.36it/s]\n"
     ]
    },
    {
     "name": "stdout",
     "output_type": "stream",
     "text": [
      "\n",
      "Epoch 41\n",
      "Train Loss: 0.5161 | Train AUC: 0.8229\n",
      "Test Acc: 0.5118 | Test AUC: 0.8139\n",
      "Peak GPU Memory: 0.36 GB\n"
     ]
    },
    {
     "name": "stderr",
     "output_type": "stream",
     "text": [
      "Epoch 42/50: 100%|██████████| 1557/1557 [01:35<00:00, 16.30it/s]\n"
     ]
    },
    {
     "name": "stdout",
     "output_type": "stream",
     "text": [
      "\n",
      "Epoch 42\n",
      "Train Loss: 0.5153 | Train AUC: 0.8237\n",
      "Test Acc: 0.5252 | Test AUC: 0.8136\n",
      "Peak GPU Memory: 0.36 GB\n"
     ]
    },
    {
     "name": "stderr",
     "output_type": "stream",
     "text": [
      "Epoch 43/50: 100%|██████████| 1557/1557 [01:35<00:00, 16.36it/s]\n"
     ]
    },
    {
     "name": "stdout",
     "output_type": "stream",
     "text": [
      "\n",
      "Epoch 43\n",
      "Train Loss: 0.5149 | Train AUC: 0.8239\n",
      "Test Acc: 0.5042 | Test AUC: 0.8140\n",
      "Peak GPU Memory: 0.36 GB\n"
     ]
    },
    {
     "name": "stderr",
     "output_type": "stream",
     "text": [
      "Epoch 44/50: 100%|██████████| 1557/1557 [01:35<00:00, 16.25it/s]\n"
     ]
    },
    {
     "name": "stdout",
     "output_type": "stream",
     "text": [
      "\n",
      "Epoch 44\n",
      "Train Loss: 0.5145 | Train AUC: 0.8241\n",
      "Test Acc: 0.5091 | Test AUC: 0.8143\n",
      "Peak GPU Memory: 0.36 GB\n"
     ]
    },
    {
     "name": "stderr",
     "output_type": "stream",
     "text": [
      "Epoch 45/50: 100%|██████████| 1557/1557 [01:35<00:00, 16.25it/s]\n"
     ]
    },
    {
     "name": "stdout",
     "output_type": "stream",
     "text": [
      "\n",
      "Epoch 45\n",
      "Train Loss: 0.5141 | Train AUC: 0.8245\n",
      "Test Acc: 0.4986 | Test AUC: 0.8141\n",
      "Peak GPU Memory: 0.36 GB\n"
     ]
    },
    {
     "name": "stderr",
     "output_type": "stream",
     "text": [
      "Epoch 46/50: 100%|██████████| 1557/1557 [01:35<00:00, 16.26it/s]\n"
     ]
    },
    {
     "name": "stdout",
     "output_type": "stream",
     "text": [
      "\n",
      "Epoch 46\n",
      "Train Loss: 0.5138 | Train AUC: 0.8247\n",
      "Test Acc: 0.5149 | Test AUC: 0.8143\n",
      "Peak GPU Memory: 0.36 GB\n"
     ]
    },
    {
     "name": "stderr",
     "output_type": "stream",
     "text": [
      "Epoch 47/50: 100%|██████████| 1557/1557 [01:36<00:00, 16.14it/s]\n"
     ]
    },
    {
     "name": "stdout",
     "output_type": "stream",
     "text": [
      "\n",
      "Epoch 47\n",
      "Train Loss: 0.5135 | Train AUC: 0.8250\n",
      "Test Acc: 0.5001 | Test AUC: 0.8142\n",
      "Peak GPU Memory: 0.36 GB\n"
     ]
    },
    {
     "name": "stderr",
     "output_type": "stream",
     "text": [
      "Epoch 48/50: 100%|██████████| 1557/1557 [01:35<00:00, 16.22it/s]\n"
     ]
    },
    {
     "name": "stdout",
     "output_type": "stream",
     "text": [
      "\n",
      "Epoch 48\n",
      "Train Loss: 0.5134 | Train AUC: 0.8251\n",
      "Test Acc: 0.5091 | Test AUC: 0.8142\n",
      "Peak GPU Memory: 0.36 GB\n"
     ]
    },
    {
     "name": "stderr",
     "output_type": "stream",
     "text": [
      "Epoch 49/50: 100%|██████████| 1557/1557 [01:35<00:00, 16.36it/s]\n"
     ]
    },
    {
     "name": "stdout",
     "output_type": "stream",
     "text": [
      "\n",
      "Epoch 49\n",
      "Train Loss: 0.5131 | Train AUC: 0.8254\n",
      "Test Acc: 0.5106 | Test AUC: 0.8143\n",
      "Peak GPU Memory: 0.36 GB\n"
     ]
    },
    {
     "name": "stderr",
     "output_type": "stream",
     "text": [
      "Epoch 50/50: 100%|██████████| 1557/1557 [01:34<00:00, 16.42it/s]\n"
     ]
    },
    {
     "name": "stdout",
     "output_type": "stream",
     "text": [
      "\n",
      "Epoch 50\n",
      "Train Loss: 0.5132 | Train AUC: 0.8251\n",
      "Test Acc: 0.5065 | Test AUC: 0.8143\n",
      "Peak GPU Memory: 0.36 GB\n"
     ]
    }
   ],
   "source": [
    "num_epochs = 50\n",
    "for epoch in range(num_epochs):\n",
    "    model.train()\n",
    "    train_loss = 0.0\n",
    "    all_train_probs = []\n",
    "    all_train_labels = []\n",
    "\n",
    "    for inputs, labels in tqdm(train_loader, desc=f'Epoch {epoch+1}/{num_epochs}'):\n",
    "        inputs = inputs.to(device, non_blocking=True)\n",
    "        labels = labels.to(device, non_blocking=True)\n",
    "\n",
    "        optimizer.zero_grad(set_to_none=True)\n",
    "        \n",
    "        with torch.amp.autocast(\"cuda\", dtype=torch.float16):\n",
    "            outputs = model(inputs)\n",
    "            loss = criterion(outputs, labels)\n",
    "        scaler.scale(loss).backward()\n",
    "        scaler.step(optimizer)\n",
    "        scaler.update()\n",
    "\n",
    "        train_loss += loss.item()\n",
    "        probs = F.softmax(outputs, dim=1)[:, 1].detach().cpu().numpy()\n",
    "        all_train_probs.extend(probs)\n",
    "        all_train_labels.extend(labels.cpu().numpy().astype(int))\n",
    "\n",
    "    # Validation phase\n",
    "    model.eval()\n",
    "    test_probs = []\n",
    "    test_labels = []\n",
    "    with torch.no_grad():\n",
    "        for inputs, labels in test_loader:\n",
    "            inputs = inputs.to(device, non_blocking=True)\n",
    "            labels = labels.to(device, non_blocking=True)\n",
    "            outputs = model(inputs)\n",
    "            probs = F.softmax(outputs, dim=1)[:, 1].cpu().numpy()\n",
    "            test_probs.extend(probs)\n",
    "            test_labels.extend(labels.cpu().numpy().astype(int))\n",
    "\n",
    "    train_loss_avg = train_loss / len(train_loader)\n",
    "    train_auc = roc_auc_score(all_train_labels, all_train_probs)\n",
    "    test_auc = roc_auc_score(test_labels, test_probs)\n",
    "    test_acc = (np.array(test_probs) > 0.5).mean()\n",
    "\n",
    "    # Update history\n",
    "    history['train_loss'].append(train_loss_avg)\n",
    "    history['train_auc'].append(train_auc)\n",
    "    history['test_auc'].append(test_auc)\n",
    "    history['test_acc'].append(test_acc)\n",
    "\n",
    "    scheduler.step()\n",
    "\n",
    "    # Save best model\n",
    "    if test_auc > best_auc:\n",
    "        best_auc = test_auc\n",
    "        torch.save(model.state_dict(), '/kaggle/working/best_model_kaggle.pth')\n",
    "\n",
    "    print(f\"\\nEpoch {epoch+1:02d}\")\n",
    "    print(f\"Train Loss: {train_loss_avg:.4f} | Train AUC: {train_auc:.4f}\")\n",
    "    print(f\"Test Acc: {test_acc:.4f} | Test AUC: {test_auc:.4f}\")\n",
    "    print(f\"Peak GPU Memory: {torch.cuda.max_memory_allocated()/1e9:.2f} GB\")\n",
    "    torch.cuda.reset_peak_memory_stats()"
   ]
  },
  {
   "cell_type": "code",
   "execution_count": 27,
   "metadata": {
    "execution": {
     "iopub.execute_input": "2025-03-31T01:16:31.176176Z",
     "iopub.status.busy": "2025-03-31T01:16:31.175814Z",
     "iopub.status.idle": "2025-03-31T01:16:44.575087Z",
     "shell.execute_reply": "2025-03-31T01:16:44.574149Z",
     "shell.execute_reply.started": "2025-03-31T01:16:31.176146Z"
    },
    "trusted": true
   },
   "outputs": [
    {
     "name": "stdout",
     "output_type": "stream",
     "text": [
      "\n",
      "★ Final Results ★\n",
      "Test Accuracy: 0.5149\n",
      "Test AUC: 0.8143\n"
     ]
    }
   ],
   "source": [
    "# Load the best saved model and evaluate on the test set\n",
    "state_dict = torch.load('/kaggle/working/best_model_kaggle.pth', weights_only=True)\n",
    "model.load_state_dict(state_dict)\n",
    "\n",
    "model.eval()\n",
    "\n",
    "all_probs = []\n",
    "all_labels = []\n",
    "with torch.no_grad():\n",
    "    for inputs, labels in test_loader:\n",
    "        inputs = inputs.to(device)\n",
    "        outputs = model(inputs)\n",
    "        probs = F.softmax(outputs, dim=1)[:, 1].cpu().numpy()\n",
    "        all_probs.extend(probs)\n",
    "        all_labels.extend(labels.numpy().astype(int))\n",
    "\n",
    "final_auc = roc_auc_score(all_labels, all_probs)\n",
    "final_acc = (np.array(all_probs) > 0.5).mean()\n",
    "\n",
    "print(\"\\n★ Final Results ★\")\n",
    "print(f\"Test Accuracy: {final_acc:.4f}\")\n",
    "print(f\"Test AUC: {final_auc:.4f}\")"
   ]
  },
  {
   "cell_type": "code",
   "execution_count": 28,
   "metadata": {
    "execution": {
     "iopub.execute_input": "2025-03-31T01:17:03.791058Z",
     "iopub.status.busy": "2025-03-31T01:17:03.790518Z",
     "iopub.status.idle": "2025-03-31T01:17:04.803741Z",
     "shell.execute_reply": "2025-03-31T01:17:04.802835Z",
     "shell.execute_reply.started": "2025-03-31T01:17:03.791009Z"
    },
    "trusted": true
   },
   "outputs": [
    {
     "data": {
      "image/png": "[encoded data removed]",
      "text/plain": [
       "<Figure size 1200x500 with 2 Axes>"
      ]
     },
     "metadata": {},
     "output_type": "display_data"
    }
   ],
   "source": [
    "import matplotlib.pyplot as plt\n",
    "import seaborn as sns\n",
    "\n",
    "sns.set_theme(style=\"darkgrid\")\n",
    "\n",
    "# Plot Training Loss and AUC\n",
    "epochs = range(1, num_epochs + 1)\n",
    "\n",
    "plt.figure(figsize=(12, 5))\n",
    "\n",
    "plt.subplot(1, 2, 1)\n",
    "plt.plot(epochs, history['train_loss'], label='Train Loss')\n",
    "plt.xlabel('Epoch')\n",
    "plt.ylabel('Loss')\n",
    "plt.title('Training Loss')\n",
    "plt.legend()\n",
    "\n",
    "plt.subplot(1, 2, 2)\n",
    "plt.plot(epochs, history['train_auc'], label='Train AUC')\n",
    "plt.plot(epochs, history['test_auc'], label='Test AUC')\n",
    "plt.xlabel('Epoch')\n",
    "plt.ylabel('AUC')\n",
    "plt.title('AUC over Epochs')\n",
    "plt.legend()\n",
    "\n",
    "plt.tight_layout()\n",
    "plt.show()"
   ]
  },
  {
   "cell_type": "code",
   "execution_count": 29,
   "metadata": {
    "execution": {
     "iopub.execute_input": "2025-03-31T01:17:19.521934Z",
     "iopub.status.busy": "2025-03-31T01:17:19.521410Z",
     "iopub.status.idle": "2025-03-31T01:17:19.525897Z",
     "shell.execute_reply": "2025-03-31T01:17:19.524859Z",
     "shell.execute_reply.started": "2025-03-31T01:17:19.521907Z"
    },
    "trusted": true
   },
   "outputs": [],
   "source": [
    "# end of common task"
   ]
  }
 ],
 "metadata": {
  "kaggle": {
   "accelerator": "nvidiaTeslaT4",
   "dataSources": [
    {
     "datasetId": 7007127,
     "sourceId": 11220253,
     "sourceType": "datasetVersion"
    }
   ],
   "dockerImageVersionId": 30919,
   "isGpuEnabled": true,
   "isInternetEnabled": true,
   "language": "python",
   "sourceType": "notebook"
  },
  "kernelspec": {
   "display_name": "Python 3",
   "language": "python",
   "name": "python3"
  },
  "language_info": {
   "codemirror_mode": {
    "name": "ipython",
    "version": 3
   },
   "file_extension": ".py",
   "mimetype": "text/x-python",
   "name": "python",
   "nbconvert_exporter": "python",
   "pygments_lexer": "ipython3",
   "version": "3.10.12"
  }
 },
 "nbformat": 4,
 "nbformat_minor": 4
}
